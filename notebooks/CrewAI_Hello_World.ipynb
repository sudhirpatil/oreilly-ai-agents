{
 "cells": [
  {
   "cell_type": "markdown",
   "metadata": {
    "id": "RT7vCRFaDbL1"
   },
   "source": [
    "# Hello World"
   ]
  },
  {
   "cell_type": "code",
   "execution_count": null,
   "metadata": {
    "scrolled": true
   },
   "outputs": [],
   "source": [
    "# !python -m pip install -U crewai crewai-tools serpapi"
   ]
  },
  {
   "cell_type": "code",
   "execution_count": null,
   "metadata": {},
   "outputs": [],
   "source": [
    "import os\n",
    "# Set up API keys\n"
   ]
  },
  {
   "cell_type": "code",
   "execution_count": null,
   "metadata": {
    "scrolled": true
   },
   "outputs": [],
   "source": []
  },
  {
   "cell_type": "code",
   "execution_count": null,
   "metadata": {
    "scrolled": true
   },
   "outputs": [],
   "source": [
    "import os\n",
    "from crewai import Agent, Task, Crew\n",
    "# Importing crewAI tools\n",
    "\n",
    "from crewai_tools import (\n",
    "    DirectoryReadTool,\n",
    "    FileReadTool,\n",
    "    SerpApiGoogleSearchTool,\n",
    "    WebsiteSearchTool\n",
    ")\n"
   ]
  },
  {
   "cell_type": "code",
   "execution_count": null,
   "metadata": {},
   "outputs": [],
   "source": [
    "# Instantiate tools\n",
    "docs_tool = DirectoryReadTool(directory='./')\n",
    "file_tool = FileReadTool()\n",
    "search_tool = SerpApiGoogleSearchTool()\n",
    "web_rag_tool = WebsiteSearchTool()\n"
   ]
  },
  {
   "cell_type": "code",
   "execution_count": null,
   "metadata": {},
   "outputs": [],
   "source": [
    "docs_tool"
   ]
  },
  {
   "cell_type": "code",
   "execution_count": null,
   "metadata": {
    "scrolled": true
   },
   "outputs": [],
   "source": [
    "search_tool.run(search_query='sinan ozdemir')"
   ]
  },
  {
   "cell_type": "code",
   "execution_count": null,
   "metadata": {},
   "outputs": [],
   "source": [
    "# Create agents\n",
    "researcher = Agent(\n",
    "    role='Market Research Analyst',\n",
    "    goal='Provide up-to-date market analysis of the AI industry',\n",
    "    backstory='An expert analyst with a keen eye for market trends.',\n",
    "    tools=[search_tool, web_rag_tool],\n",
    "    verbose=True\n",
    ")\n",
    "\n",
    "writer = Agent(\n",
    "    role='Content Writer',\n",
    "    goal='Craft engaging blog posts about the AI industry',\n",
    "    backstory='A skilled writer with a passion for technology.',\n",
    "    tools=[docs_tool, file_tool],\n",
    "    verbose=True\n",
    ")\n",
    "\n",
    "# Define tasks\n",
    "research = Task(\n",
    "    description='Research the latest trends in the AI industry in 2025 and provide a summary.',\n",
    "    expected_output='A summary of the top 3 trending developments in the AI industry with a unique perspective on their significance.',\n",
    "    agent=researcher\n",
    ")\n",
    "\n",
    "write = Task(\n",
    "    description='Write an engaging blog post about the AI industry in 2025, based on the research analyst\\'s summary. Draw inspiration from the latest blog posts in the directory.',\n",
    "    expected_output='A 4-paragraph blog post formatted in markdown with engaging, informative, and accessible content, avoiding complex jargon.',\n",
    "    agent=writer,\n",
    "    output_file='blog-posts/new_post.md'  # The final blog post will be saved here\n",
    ")\n"
   ]
  },
  {
   "cell_type": "code",
   "execution_count": null,
   "metadata": {
    "scrolled": true
   },
   "outputs": [],
   "source": [
    "# Assemble a crew with planning enabled\n",
    "crew = Crew(\n",
    "    agents=[researcher, writer],\n",
    "    tasks=[research, write],\n",
    "    verbose=True,\n",
    "    planning=True,  # Enable planning feature\n",
    ")\n",
    "\n",
    "# Execute tasks\n",
    "crew.kickoff()"
   ]
  },
  {
   "cell_type": "code",
   "execution_count": null,
   "metadata": {
    "scrolled": true
   },
   "outputs": [],
   "source": [
    "# Assemble a crew with planning enabled\n",
    "crew = Crew(\n",
    "    agents=[researcher, writer],\n",
    "    tasks=[research, write],\n",
    "    verbose=True,\n",
    "    planning=False,  # Enable planning feature\n",
    ")\n",
    "\n",
    "# Execute tasks\n",
    "crew.kickoff()"
   ]
  },
  {
   "cell_type": "code",
   "execution_count": null,
   "metadata": {},
   "outputs": [],
   "source": []
  },
  {
   "cell_type": "code",
   "execution_count": null,
   "metadata": {
    "colab": {
     "base_uri": "https://localhost:8080/"
    },
    "id": "klRUsA9VEYR_",
    "outputId": "88f1d9e6-a0eb-45fc-b1c2-33cc77d2e157",
    "scrolled": true
   },
   "outputs": [],
   "source": [
    "from crewai import Process\n",
    "data_analyst = Agent(\n",
    "    role='Educator',\n",
    "    goal=f'Based on the context provided, answer the question.',\n",
    "    backstory='You are a data expert',\n",
    "    verbose=True,\n",
    "    allow_delegation=False, #Disable delegation to another agent\n",
    "    tools=[search_tool]\n",
    ")\n",
    "\n",
    "test_task = Task(\n",
    "    description=\"Understand the topic of Natural Language Processing and summarize it for me\",\n",
    "    agent=data_analyst,\n",
    "    expected_output='I want the response to be as short as possible.'\n",
    ")\n",
    "\n",
    "crew = Crew(\n",
    "    tasks=[test_task],\n",
    "    process=Process.sequential,\n",
    ")\n",
    "\n",
    "output = crew.kickoff()"
   ]
  },
  {
   "cell_type": "code",
   "execution_count": null,
   "metadata": {
    "colab": {
     "base_uri": "https://localhost:8080/"
    },
    "id": "LQSl499hFNLI",
    "outputId": "f8643290-3ae8-453f-dadc-0f0b688ea0bf"
   },
   "outputs": [],
   "source": [
    "print(output.raw)"
   ]
  },
  {
   "cell_type": "code",
   "execution_count": null,
   "metadata": {
    "colab": {
     "base_uri": "https://localhost:8080/"
    },
    "id": "17JllC9ZQKEd",
    "outputId": "f43c4b19-b10d-4437-dacc-a7663cf81671",
    "scrolled": true
   },
   "outputs": [],
   "source": [
    "from langchain_openai import ChatOpenAI\n",
    "import litellm\n",
    "from crewai import Agent, Task, Crew\n",
    "from typing import Dict, Any\n",
    "\n",
    "class LLMCallTracker:\n",
    "    def __init__(self):\n",
    "        self.call_count = 0\n",
    "        self.calls = []\n",
    "    \n",
    "    def track_call(self, **kwargs):\n",
    "        self.call_count += 1\n",
    "        call_info = {\n",
    "            'call_number': self.call_count,\n",
    "            'timestamp': datetime.now(),\n",
    "            'model': kwargs.get('model'),\n",
    "            'messages': kwargs.get('messages'),\n",
    "            'response': kwargs.get('response')\n",
    "        }\n",
    "        self.calls.append(call_info)\n",
    "        \n",
    "        print(f\"\\n=== LLM Call #{self.call_count} ===\")\n",
    "        print(f\"Model: {call_info['model']}\")\n",
    "        print(f\"Messages: {len(call_info['messages'])} messages\")\n",
    "        print(f\"Response length: {len(str(call_info['response']))} chars\")\n",
    "        print(\"=\" * 50)\n",
    "\n",
    "# Enable LiteLLM debug with custom tracking\n",
    "tracker = LLMCallTracker()\n",
    "litellm._turn_on_debug()\n",
    "\n",
    "nlp_task = Task(\n",
    "    description=\"Understand the topic of Natural Language Processing and sumamrize it for me\",\n",
    "    # agent=data_analyst,  # commenting out the agent now, letting the manager decide\n",
    "    expected_output='Give a correct response'\n",
    ")\n",
    "\n",
    "calculator_agent = Agent(\n",
    "    role='Calculator',\n",
    "    goal=f'You calculate things',\n",
    "    backstory='You love math',\n",
    "    verbose=True,\n",
    "    allow_delegation=False,\n",
    "    tools=[]\n",
    ")\n",
    "\n",
    "math_task = Task(\n",
    "    description=\"Tell me what 123 * 34 is\",\n",
    "    expected_output='Calculate this'\n",
    ")\n",
    "\n",
    "\n",
    "crew = Crew(\n",
    "    tasks=[math_task, nlp_task],\n",
    "    agents=[calculator_agent, data_analyst],\n",
    "    process=Process.hierarchical,\n",
    "    manager_llm=ChatOpenAI(model_name=\"gpt-4.1\", temperature=0.7),  # required if you are using hierarhical\n",
    "    verbose=True\n",
    ")\n",
    "\n",
    "output = crew.kickoff()"
   ]
  },
  {
   "cell_type": "code",
   "execution_count": null,
   "metadata": {
    "colab": {
     "base_uri": "https://localhost:8080/"
    },
    "id": "M2BBfIw4SQwp",
    "outputId": "9fddc36b-a2ef-48bd-f6e8-bb04ed51c0f5"
   },
   "outputs": [],
   "source": [
    "for output in output.tasks_output:\n",
    "    print(output)\n",
    "    print('----')"
   ]
  },
  {
   "cell_type": "code",
   "execution_count": null,
   "metadata": {
    "colab": {
     "base_uri": "https://localhost:8080/",
     "height": 35
    },
    "id": "TxxWR_-2QJ7o",
    "outputId": "6c84a82d-5836-4905-fb98-def6f86c7632"
   },
   "outputs": [],
   "source": [
    "output.raw"
   ]
  },
  {
   "cell_type": "code",
   "execution_count": null,
   "metadata": {},
   "outputs": [],
   "source": []
  },
  {
   "cell_type": "code",
   "execution_count": null,
   "metadata": {},
   "outputs": [],
   "source": []
  },
  {
   "cell_type": "code",
   "execution_count": null,
   "metadata": {
    "id": "L8SjLbO0FM-H",
    "scrolled": true
   },
   "outputs": [],
   "source": [
    "researcher = Agent(\n",
    "  role='Senior Research Analyst',\n",
    "  goal='Uncover cutting-edge developments in AI and data science',\n",
    "  backstory=\"\"\"You work at a leading tech think tank.\n",
    "  Your expertise lies in identifying emerging trends.\n",
    "  You have a knack for dissecting complex data and presenting actionable insights.\"\"\",\n",
    "  verbose=True,\n",
    "  allow_delegation=False,\n",
    "  tools=[search_tool]\n",
    ")\n",
    "\n",
    "writer = Agent(\n",
    "  role='Tech Content Strategist',\n",
    "  goal='Craft compelling content on tech advancements',\n",
    "  backstory=\"\"\"You are a renowned Content Strategist, known for your insightful and engaging articles.\n",
    "  You transform complex concepts into compelling narratives.\"\"\",\n",
    "  verbose=True,\n",
    "  allow_delegation=True\n",
    ")"
   ]
  },
  {
   "cell_type": "code",
   "execution_count": null,
   "metadata": {
    "id": "A0QvDeQ0FYZg"
   },
   "outputs": [],
   "source": [
    "# Create tasks for your agents\n",
    "task1 = Task(\n",
    "  description=\"\"\"Conduct a comprehensive analysis of the latest advancements in AI in 2025.\n",
    "  Identify key trends, breakthrough technologies, and potential industry impacts.\"\"\",\n",
    "  expected_output=\"Full analysis report in bullet points\",\n",
    "  agent=researcher\n",
    ")\n",
    "\n",
    "task2 = Task(\n",
    "  description=\"\"\"Using the insights provided, develop an engaging blog\n",
    "  post that highlights the most significant AI advancements.\n",
    "  Your post should be informative yet accessible, catering to a tech-savvy audience.\n",
    "  Make it sound cool, avoid complex words so it doesn't sound like AI.\"\"\",\n",
    "  expected_output=\"Full blog post of at least 4 paragraphs\",\n",
    "  agent=writer\n",
    ")"
   ]
  },
  {
   "cell_type": "code",
   "execution_count": null,
   "metadata": {
    "colab": {
     "base_uri": "https://localhost:8080/"
    },
    "id": "p1xSU8irFecI",
    "outputId": "1f2095b3-f985-4628-ee91-72464a175cbd"
   },
   "outputs": [],
   "source": [
    "from crewai import Process\n",
    "# Instantiate your crew with a sequential process\n",
    "crew = Crew(\n",
    "  agents=[researcher, writer],\n",
    "  # When delegation enabled in writer agent, Crew auto finds required agent for task2 & task1 is not requied to be mentioned\n",
    "  # Also auto corrects parameters required for tool delegation\n",
    "  tasks= [task2], #[task1, task2],\n",
    "  process=Process.sequential,\n",
    ")"
   ]
  },
  {
   "cell_type": "code",
   "execution_count": null,
   "metadata": {
    "colab": {
     "base_uri": "https://localhost:8080/",
     "height": 1000
    },
    "id": "lYZ-COOUFgpX",
    "outputId": "83d51876-1d38-4c6e-d687-ad16e58e3225",
    "scrolled": true
   },
   "outputs": [],
   "source": [
    "# writes tries to use delegate to worker wrong. Fixes itself\n",
    "result = crew.kickoff()\n",
    "\n",
    "print(\"-----------------------------\")\n",
    "print(result)\n"
   ]
  },
  {
   "cell_type": "code",
   "execution_count": null,
   "metadata": {
    "id": "RnjAMJ4-KdMZ"
   },
   "outputs": [],
   "source": []
  },
  {
   "cell_type": "code",
   "execution_count": null,
   "metadata": {
    "id": "_e9HwsszKdOx"
   },
   "outputs": [],
   "source": [
    "writer.allow_delegation = False  # turn off delegation, resulting in all hard-coded delegation"
   ]
  },
  {
   "cell_type": "code",
   "execution_count": null,
   "metadata": {
    "id": "tV3hVcYCKdRd"
   },
   "outputs": [],
   "source": [
    "# Create tasks for your agents\n",
    "task1 = Task(\n",
    "  description=\"\"\"Conduct a comprehensive analysis of the latest advancements in AI in 2024.\n",
    "  Identify key trends, breakthrough technologies, and potential industry impacts.\"\"\",\n",
    "  expected_output=\"Full analysis report in bullet points\",\n",
    "  agent=researcher\n",
    ")\n",
    "\n",
    "task2 = Task(\n",
    "  description=\"\"\"Using the insights provided, develop an engaging blog\n",
    "  post that highlights the most significant AI advancements.\n",
    "  Your post should be informative yet accessible, catering to a tech-savvy audience.\n",
    "  Make it sound cool, avoid complex words so it doesn't sound like AI.\"\"\",\n",
    "  expected_output=\"Full blog post of at least 4 paragraphs\",\n",
    "  agent=writer\n",
    ")"
   ]
  },
  {
   "cell_type": "code",
   "execution_count": null,
   "metadata": {
    "colab": {
     "base_uri": "https://localhost:8080/"
    },
    "id": "E9xPH3WNKtHs",
    "outputId": "9a5ccd56-c60d-46dc-9a4e-c45f8253d161",
    "scrolled": true
   },
   "outputs": [],
   "source": [
    "# Instantiate your crew with a sequential process\n",
    "crew = Crew(\n",
    "  agents=[researcher, writer],\n",
    "  tasks=[task1, task2],\n",
    "  process=Process.sequential,\n",
    ")\n",
    "result = crew.kickoff()\n",
    "print(\"-----------------------------\")\n",
    "print(result)"
   ]
  },
  {
   "cell_type": "code",
   "execution_count": null,
   "metadata": {
    "colab": {
     "base_uri": "https://localhost:8080/",
     "height": 161
    },
    "id": "jib9k1zAFlQL",
    "outputId": "19a1da3d-6629-4155-f0ce-9e919f5317a3"
   },
   "outputs": [],
   "source": [
    "print(task1.output.raw)"
   ]
  },
  {
   "cell_type": "code",
   "execution_count": null,
   "metadata": {
    "colab": {
     "base_uri": "https://localhost:8080/",
     "height": 161
    },
    "id": "lXrjZSgIFnwM",
    "outputId": "198ff558-01ba-4438-da9a-fb1da75aea30"
   },
   "outputs": [],
   "source": [
    "print(task2.output.raw)"
   ]
  },
  {
   "cell_type": "code",
   "execution_count": null,
   "metadata": {},
   "outputs": [],
   "source": []
  },
  {
   "cell_type": "markdown",
   "metadata": {},
   "source": [
    "# Building a Search Agent with a Custom Tool"
   ]
  },
  {
   "cell_type": "code",
   "execution_count": null,
   "metadata": {},
   "outputs": [],
   "source": [
    "os.environ[\"SERP_API_KEY\"] = 'your_serp_key'"
   ]
  },
  {
   "cell_type": "code",
   "execution_count": null,
   "metadata": {},
   "outputs": [],
   "source": [
    "!uv pip show serpapi"
   ]
  },
  {
   "cell_type": "code",
   "execution_count": null,
   "metadata": {},
   "outputs": [],
   "source": [
    "!uv pip install --upgrade serpapi"
   ]
  },
  {
   "cell_type": "code",
   "execution_count": null,
   "metadata": {
    "id": "CmK2pvdELFM0"
   },
   "outputs": [],
   "source": [
    "import json\n",
    "import os\n",
    "import requests\n",
    "from crewai import Agent, Task\n",
    "# from serpapi import GoogleSearch\n",
    "from crewai.tools import BaseTool\n",
    "\n",
    "class SearchTool(BaseTool):\n",
    "    name: str = \"Google Search\"\n",
    "    description: str = \"\"\"Useful to search the internet about a given topic and return relevant results.\"\"\"\n",
    "\n",
    "    def _run(self, query: str, top_k: int = 3) -> str:\n",
    "        params: dict = {\n",
    "            \"engine\": \"google\",\n",
    "            \"google_domain\": \"google.com\",\n",
    "            \"gl\": \"us\",\n",
    "            \"hl\": \"en\",\n",
    "            \"q\": query,\n",
    "            \"api_key\": os.environ[\"SERP_API_KEY\"],\n",
    "        }\n",
    "\n",
    "        search = GoogleSearch(params)\n",
    "        response = search.get_dict()\n",
    "        # check if there is an organic results key, don't include sponsor results\n",
    "        if 'organic_results' not in response:\n",
    "            return \"Sorry, I couldn't find anything about that, there could be an error with you serper api key.\"\n",
    "        else:\n",
    "            results = response['organic_results']\n",
    "            string = []\n",
    "            for result in results[:top_k]:\n",
    "                try:\n",
    "                    string.append('\\n'.join([\n",
    "                        f\"Title: {result['title']}\", f\"Link: {result['link']}\",\n",
    "                        f\"Snippet: {result['snippet']}\", \"\\n-----------------\"\n",
    "                    ]))\n",
    "                except KeyError:\n",
    "                    next\n",
    "\n",
    "            return '\\n'.join(string)"
   ]
  },
  {
   "cell_type": "code",
   "execution_count": null,
   "metadata": {
    "colab": {
     "base_uri": "https://localhost:8080/",
     "height": 35
    },
    "id": "YLYvQlTzRkOV",
    "outputId": "eb5638bd-047c-4ede-88bf-61f505fdb729"
   },
   "outputs": [],
   "source": [
    "SearchTool().description # where I specifically describe how to use the tool"
   ]
  },
  {
   "cell_type": "code",
   "execution_count": null,
   "metadata": {
    "colab": {
     "base_uri": "https://localhost:8080/",
     "height": 143
    },
    "id": "e0Nq3MtdLFec",
    "outputId": "c3d6be5f-44eb-40d0-960a-3f556e6f0499",
    "scrolled": true
   },
   "outputs": [],
   "source": [
    "print(SearchTool().run(query=\"Who is Sinan Ozdemir?\"))"
   ]
  },
  {
   "cell_type": "code",
   "execution_count": null,
   "metadata": {
    "colab": {
     "base_uri": "https://localhost:8080/"
    },
    "id": "IyH-EkP1YNPB",
    "outputId": "c5104192-5b4a-4876-d2e3-fc2ed263a2b2",
    "scrolled": true
   },
   "outputs": [],
   "source": [
    "researcher_agent = Agent(\n",
    "    role='Researcher',\n",
    "    goal='Look up information on the internet and scrape the websites for relevant information',\n",
    "    backstory=\"\"\"You have a knack for dissecting complex data and presenting actionable insights.\"\"\",\n",
    "    tools=[\n",
    "        SearchTool()\n",
    "    ],\n",
    "    verbose=True\n",
    ")\n",
    "email_agent = Agent(\n",
    "    role='Emailer',\n",
    "    goal='Write short, warm emails to people',\n",
    "    backstory=\"\"\"You are an assistant.\"\"\",\n",
    "    tools=[],\n",
    "    verbose=True\n",
    ")\n",
    "\n",
    "sample_lookup_task = Task(\n",
    "  description=\"\"\"Lookup Sinan Ozdemir\"\"\",\n",
    "  expected_output=\"A lookup report of a query\",\n",
    "  agent=researcher_agent\n",
    ")\n",
    "\n",
    "email_task = Task(\n",
    "  description=\"\"\"Write an email to Sinan Ozdemir asking him to get coffee. Personalize it\"\"\",\n",
    "  expected_output=\"A short warm email\",\n",
    "  agent=email_agent\n",
    ")\n",
    "\n",
    "crew = Crew(\n",
    "    tasks=[sample_lookup_task, email_task],\n",
    "    process=Process.sequential,\n",
    "    verbose=True\n",
    ")\n",
    "\n",
    "result = crew.kickoff()"
   ]
  },
  {
   "cell_type": "code",
   "execution_count": null,
   "metadata": {
    "colab": {
     "base_uri": "https://localhost:8080/"
    },
    "id": "IoF6SZU5Yqr_",
    "outputId": "1ea99939-bb68-4bc0-fc55-7bbcfa439cf1"
   },
   "outputs": [],
   "source": [
    "print(result)"
   ]
  },
  {
   "cell_type": "code",
   "execution_count": null,
   "metadata": {},
   "outputs": [],
   "source": []
  },
  {
   "cell_type": "markdown",
   "metadata": {
    "id": "wtl-CGJbUR0k"
   },
   "source": [
    "## Trip Advisor"
   ]
  },
  {
   "cell_type": "code",
   "execution_count": null,
   "metadata": {
    "id": "j8vrP-TTMPhO"
   },
   "outputs": [],
   "source": [
    "from crewai import Agent\n",
    "\n",
    "class TripAgents():\n",
    "\n",
    "  def local_expert(self):\n",
    "    return Agent(\n",
    "        role='Local Expert at this city',\n",
    "        goal='Provide 2-3 insights about the selected city',\n",
    "        backstory=\"\"\"A knowledgeable local guide with extensive information\n",
    "        about the city, it's attractions and customs\"\"\",\n",
    "        tools=[\n",
    "            search_tool, #SearchTool(),\n",
    "            web_rag_tool\n",
    "        ],\n",
    "        verbose=True)\n",
    "\n",
    "  def travel_concierge(self):\n",
    "    return Agent(\n",
    "        role='Amazing Travel Concierge',\n",
    "        goal=\"\"\"Create the most amazing travel itineraries with budget and\n",
    "        packing suggestions for the city\"\"\",\n",
    "        backstory=\"\"\"Specialist in travel planning and logistics with\n",
    "        decades of experience\"\"\",\n",
    "        tools=[],\n",
    "        verbose=True)"
   ]
  },
  {
   "cell_type": "code",
   "execution_count": null,
   "metadata": {
    "id": "QYe16BtJMqXc"
   },
   "outputs": [],
   "source": [
    "from crewai import Task\n",
    "from textwrap import dedent\n",
    "from datetime import date\n",
    "\n",
    "\n",
    "class TripTasks():\n",
    "\n",
    "  def gather_task(self, agent, origin, city, interests, range):\n",
    "    return Task(description= dedent(f\"\"\"\n",
    "        I want you to create a comprehensive city guide.\n",
    "        This guide should provide a thorough overview of what\n",
    "        the city has to offer, including hidden gems, cultural\n",
    "        hotspots, and must-visit landmarks.\n",
    "\n",
    "        Trip Date: {range}\n",
    "        Traveling from: {origin}\n",
    "        Traveling to: {city}\n",
    "        Traveler Interests: {interests}\n",
    "        \"\"\"),\n",
    "\n",
    "            expected_output=dedent(f\"\"\"\n",
    "        The final answer must be a comprehensive city guide,\n",
    "        rich in cultural insights and practical tips,\n",
    "        tailored to enhance the travel experience.\n",
    "\n",
    "        \"\"\"),\n",
    "                agent=agent)\n",
    "\n",
    "  def plan_task(self, agent, origin, city, interests, range):\n",
    "    return Task(description=dedent(f\"\"\"\n",
    "        Expand this guide into a a full 1-day travel\n",
    "        itinerary with detailed per-day plans, including\n",
    "        weather forecasts, places to eat, packing suggestions,\n",
    "        and a budget breakdown.\n",
    "\n",
    "        You MUST suggest actual places to visit, actual hotels\n",
    "        to stay and actual restaurants to go to.\n",
    "\n",
    "        Trip Date: {range}\n",
    "        Traveling from: {origin}\n",
    "        Traveling to: {city}\n",
    "        Traveler Interests: {interests}\n",
    "      \"\"\"),\n",
    "            expected_output=dedent(f\"\"\"\n",
    "        Your final answer MUST be a complete expanded travel plan,\n",
    "        formatted as markdown, encompassing a daily schedule,\n",
    "        anticipated weather conditions, recommended clothing and\n",
    "        items to pack, and a detailed budget, ensuring THE BEST\n",
    "        TRIP EVER, Be specific and give it a reason why you picked\n",
    "        # up each place, what make them special!\n",
    "        \"\"\"),\n",
    "                agent=agent)"
   ]
  },
  {
   "cell_type": "code",
   "execution_count": null,
   "metadata": {
    "id": "TgHQj6IDMqjO"
   },
   "outputs": [],
   "source": [
    "class TripCrew:\n",
    "\n",
    "  def __init__(self, origin, city, date_range, interests):\n",
    "    self.city = city\n",
    "    self.origin = origin\n",
    "    self.interests = interests\n",
    "    self.date_range = date_range\n",
    "\n",
    "  def run(self):\n",
    "    agents = TripAgents()\n",
    "    tasks = TripTasks()\n",
    "\n",
    "    gather_task = tasks.gather_task(\n",
    "      agents.local_expert(),\n",
    "      self.origin,\n",
    "      self.city,\n",
    "      self.interests,\n",
    "      self.date_range\n",
    "    )\n",
    "    plan_task = tasks.plan_task(\n",
    "      agents.travel_concierge(),\n",
    "      self.origin,\n",
    "      self.city,\n",
    "      self.interests,\n",
    "      self.date_range\n",
    "    )\n",
    "\n",
    "    # Initiate Crew\n",
    "    crew = Crew(\n",
    "      tasks=[gather_task, plan_task],\n",
    "      process=Process.sequential,\n",
    "      verbose=True\n",
    "    )\n",
    "\n",
    "    result = crew.kickoff()\n",
    "    return result"
   ]
  },
  {
   "cell_type": "code",
   "execution_count": null,
   "metadata": {
    "colab": {
     "base_uri": "https://localhost:8080/"
    },
    "id": "dxd8tSOqPdAr",
    "outputId": "06313a84-f6c7-402b-9fb3-28e808693db0",
    "scrolled": true
   },
   "outputs": [],
   "source": [
    "trip_crew = TripCrew('SF', \"Paris\", 'December 2025', 'art')\n",
    "result = trip_crew.run()"
   ]
  },
  {
   "cell_type": "code",
   "execution_count": null,
   "metadata": {
    "colab": {
     "base_uri": "https://localhost:8080/"
    },
    "id": "CyfyYvi7PyPk",
    "outputId": "44944593-ad50-4372-c966-422a1fb599d3",
    "scrolled": true
   },
   "outputs": [],
   "source": [
    "print(result)"
   ]
  },
  {
   "cell_type": "code",
   "execution_count": null,
   "metadata": {
    "colab": {
     "base_uri": "https://localhost:8080/",
     "height": 591
    },
    "id": "aeNdhcPWMr-J",
    "outputId": "d9ff3b28-077f-4dc3-85a5-e0b59d6794b8",
    "scrolled": true
   },
   "outputs": [],
   "source": [
    "print(\"## Welcome to Trip Planner Crew\")\n",
    "print('-——————————')\n",
    "location = input(\n",
    "dedent(\"\"\"\n",
    "  From where will you be traveling from?\n",
    "\"\"\"))\n",
    "city = input(\n",
    "dedent(\"\"\"\n",
    "  Where do you want to go?\n",
    "\"\"\"))\n",
    "date_range = input(\n",
    "dedent(\"\"\"\n",
    "  What is the date range you are interested in traveling?\n",
    "\"\"\"))\n",
    "interests = input(\n",
    "dedent(\"\"\"\n",
    "  What are some of your high level interests and hobbies?\n",
    "\"\"\"))\n",
    "\n",
    "trip_crew = TripCrew(location, city, date_range, interests)\n",
    "result = trip_crew.run()"
   ]
  },
  {
   "cell_type": "code",
   "execution_count": null,
   "metadata": {},
   "outputs": [],
   "source": [
    "print(\"\\n\\n########################\")\n",
    "print(\"## Here is your Trip Plan\")\n",
    "print(\"########################\\n\")\n",
    "print(result)"
   ]
  },
  {
   "cell_type": "code",
   "execution_count": null,
   "metadata": {},
   "outputs": [],
   "source": []
  }
 ],
 "metadata": {
  "colab": {
   "provenance": []
  },
  "kernelspec": {
   "display_name": "Python 3 (ipykernel)",
   "language": "python",
   "name": "python3"
  },
  "language_info": {
   "codemirror_mode": {
    "name": "ipython",
    "version": 3
   },
   "file_extension": ".py",
   "mimetype": "text/x-python",
   "name": "python",
   "nbconvert_exporter": "python",
   "pygments_lexer": "ipython3",
   "version": "3.11.5"
  }
 },
 "nbformat": 4,
 "nbformat_minor": 4
}
