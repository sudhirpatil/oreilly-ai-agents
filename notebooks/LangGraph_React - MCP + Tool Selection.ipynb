{
 "cells": [
  {
   "cell_type": "markdown",
   "metadata": {},
   "source": [
    "# Setting up a basic ReAct Agent in LangGraph"
   ]
  },
  {
   "cell_type": "code",
   "execution_count": null,
   "metadata": {},
   "outputs": [],
   "source": [
    "import os\n",
    "# Set up API keys\n",
    "os.environ[\"OPENAI_API_KEY\"] = \"\""
   ]
  },
  {
   "cell_type": "code",
   "execution_count": 18,
   "metadata": {},
   "outputs": [
    {
     "name": "stdout",
     "output_type": "stream",
     "text": [
      "\u001b[2mUsing Python 3.11.5 environment at: /Users/sudhirpatil/code/oreilly-ai-agents/.venv\u001b[0m\n",
      "\u001b[2K\u001b[2mResolved \u001b[1m40 packages\u001b[0m \u001b[2min 553ms\u001b[0m\u001b[0m                                        \u001b[0m\n",
      "\u001b[2K\u001b[2mPrepared \u001b[1m1 package\u001b[0m \u001b[2min 64ms\u001b[0m\u001b[0m                                               \n",
      "\u001b[2K\u001b[2mInstalled \u001b[1m1 package\u001b[0m \u001b[2min 2ms\u001b[0m\u001b[0mers==0.1.11                       \u001b[0m\n",
      " \u001b[32m+\u001b[39m \u001b[1mlangchain-mcp-adapters\u001b[0m\u001b[2m==0.1.11\u001b[0m\n"
     ]
    }
   ],
   "source": [
    "#!uv pip install google-search-results\n",
    "#!uv pip show google-search-results\n",
    "#!python --version\n",
    "# !uv pip show serpapi\n",
    "# !uv pip install langchain-anthropic\n",
    "!uv pip install langchain-mcp-adapters"
   ]
  },
  {
   "cell_type": "code",
   "execution_count": 2,
   "metadata": {},
   "outputs": [
    {
     "name": "stdout",
     "output_type": "stream",
     "text": [
      "['APIKeyNotProvided', 'BAIDU_ENGINE', 'BING_ENGINE', 'Client', 'EBAY_ENGINE', 'GOOGLE_ENGINE', 'GOOGLE_SCHOLAR_ENGINE', 'GoogleSearch', 'HOME_DEPOT_ENGINE', 'HTTPClient', 'HTTPConnectionError', 'HTTPError', 'Pagination', 'SearchIDNotProvided', 'SerpApiClient', 'SerpApiClientException', 'SerpApiError', 'SerpResults', 'YAHOO_ENGINE', 'YANDEX_ENGINE', 'YOUTUBE_ENGINE', '__builtins__', '__cached__', '__doc__', '__file__', '__loader__', '__name__', '__package__', '__path__', '__spec__', '__version__', 'account', 'core', 'exceptions', 'google_search', 'http', 'json', 'locations', 'models', 'pagination', 'requests', 'search', 'search_archive', 'serp_api_client', 'serp_api_client_exception', 'textui']\n"
     ]
    }
   ],
   "source": [
    "import serpapi\n",
    "print(dir(serpapi))"
   ]
  },
  {
   "cell_type": "code",
   "execution_count": 3,
   "metadata": {},
   "outputs": [
    {
     "name": "stdout",
     "output_type": "stream",
     "text": [
      "<class 'serpapi.google_search.GoogleSearch'>\n"
     ]
    }
   ],
   "source": [
    "from langchain_community.utilities import SerpAPIWrapper\n",
    "from serpapi.serp_api_client import *\n",
    "from serpapi import GoogleSearch\n",
    "print(GoogleSearch)\n",
    "# serpapi = SerpAPIWrapper()\n",
    "# serpapi.run('Sinan Ozdemir')"
   ]
  },
  {
   "cell_type": "code",
   "execution_count": 4,
   "metadata": {
    "colab": {
     "base_uri": "https://localhost:8080/"
    },
    "id": "-47NGgZAvFz-",
    "outputId": "72f0e0c9-0fa5-45b2-fd88-f3c9f710afa5",
    "scrolled": true
   },
   "outputs": [],
   "source": [
    "# alternative way to get a tool from langchain\n",
    "\n",
    "from langchain_community.agent_toolkits.load_tools import load_tools\n",
    "tools = load_tools([\"serpapi\"])"
   ]
  },
  {
   "cell_type": "code",
   "execution_count": 7,
   "metadata": {},
   "outputs": [
    {
     "data": {
      "text/plain": [
       "'[\\'Sinan is an active lecturer focusing on large language models and a former lecturer of data science at the Johns Hopkins University. He is the author of multiple textbooks on data science and machine learning including \"Quick Start Guide to LLMs\". ...\\', \\'Sinan Ozdemir type: Author.\\', \\'Sinan Ozdemir entity_type: people.\\', \\'Sinan Ozdemir kgmid: /g/11hcjs9cr6.\\', \\'Specialized in areas including time management as well as mathematics and computer science logistics.\\', \\'Helping companies leverage AI technology to solve complex problems. Founder, author, and consultant specializing in AI, LLMs, and data science.\\', \\'Data Scientist + Author + Entrepreneur. Check out my new book on LLMs on Amazon (Top 10 in AI/NLP) - sinanuozdemir.\\', \\'Sinan Ozdemir is a mathematician, data scientist, NLP expert, lecturer, and accomplished author. He is currently applying my extensive knowledge and experience ...\\', \"A beginner\\'s guide to essential math and coding skills for data fluency and machine learning by Sinan Ozdemir\", \\'NLP + Gen AI Expert / LLM whisperer. AI Author. Founder @Aikylie (acquired). Contributor on @Forbes. Fellow @YCombinator. San Francisco, CA.\\', \\'Sinan Ozdemir is a Data Scientist, Entrepreneur, Teacher, and Author. He is the founder of LoopGenius, a company that helps people get their first 100 ...\\', \\'Sinan Ozdemir is a leading expert in Generative Artificial Intelligence and Machine Learning, with a successful track record as the founder of a venture-backed\\', \\'Sensational episode for you today with the illustrious A.I. author, educator and entrepreneur Sinan Ozdemir on how LLM benchmarks are lying ...\\']'"
      ]
     },
     "execution_count": 7,
     "metadata": {},
     "output_type": "execute_result"
    }
   ],
   "source": [
    "tools[0].run('sinan ozdemir')"
   ]
  },
  {
   "cell_type": "code",
   "execution_count": 11,
   "metadata": {},
   "outputs": [],
   "source": [
    "from langchain_openai import ChatOpenAI\n",
    "from langchain_anthropic import ChatAnthropic\n",
    "from langgraph.prebuilt import create_react_agent\n",
    "\n",
    "# Choose the LLM that will drive the agent\n",
    "llm = ChatOpenAI(model=\"gpt-4o-mini\")\n",
    "agent_executor = create_react_agent(llm, tools, prompt='Today is May 30th, 2025')  # true as of 5/30/2025 ;)"
   ]
  },
  {
   "cell_type": "code",
   "execution_count": 10,
   "metadata": {},
   "outputs": [
    {
     "name": "stdout",
     "output_type": "stream",
     "text": [
      "(model: Union[str, langchain_core.runnables.base.Runnable[Union[langchain_core.prompt_values.PromptValue, str, collections.abc.Sequence[Union[langchain_core.messages.base.BaseMessage, list[str], tuple[str, str], str, dict[str, Any]]]], Union[langchain_core.messages.base.BaseMessage, str]], Callable[[~StateSchema, langgraph.runtime.Runtime[~ContextT]], langchain_core.language_models.chat_models.BaseChatModel], Callable[[~StateSchema, langgraph.runtime.Runtime[~ContextT]], Awaitable[langchain_core.language_models.chat_models.BaseChatModel]], Callable[[~StateSchema, langgraph.runtime.Runtime[~ContextT]], langchain_core.runnables.base.Runnable[Union[langchain_core.prompt_values.PromptValue, str, collections.abc.Sequence[Union[langchain_core.messages.base.BaseMessage, list[str], tuple[str, str], str, dict[str, Any]]]], langchain_core.messages.base.BaseMessage]], Callable[[~StateSchema, langgraph.runtime.Runtime[~ContextT]], Awaitable[langchain_core.runnables.base.Runnable[Union[langchain_core.prompt_values.PromptValue, str, collections.abc.Sequence[Union[langchain_core.messages.base.BaseMessage, list[str], tuple[str, str], str, dict[str, Any]]]], langchain_core.messages.base.BaseMessage]]]], tools: Union[Sequence[Union[langchain_core.tools.base.BaseTool, Callable, dict[str, Any]]], langgraph.prebuilt.tool_node.ToolNode], *, prompt: Union[langchain_core.messages.system.SystemMessage, str, Callable[[~StateSchema], Union[langchain_core.prompt_values.PromptValue, str, collections.abc.Sequence[Union[langchain_core.messages.base.BaseMessage, list[str], tuple[str, str], str, dict[str, Any]]]]], langchain_core.runnables.base.Runnable[~StateSchema, Union[langchain_core.prompt_values.PromptValue, str, collections.abc.Sequence[Union[langchain_core.messages.base.BaseMessage, list[str], tuple[str, str], str, dict[str, Any]]]]], NoneType] = None, response_format: Union[dict, type[pydantic.main.BaseModel], tuple[str, Union[dict, type[pydantic.main.BaseModel]]], NoneType] = None, pre_model_hook: Union[langchain_core.runnables.base.Runnable[-Input, +Output], Callable[[-Input], +Output], Callable[[-Input], collections.abc.Awaitable[+Output]], Callable[[collections.abc.Iterator[-Input]], collections.abc.Iterator[+Output]], Callable[[collections.abc.AsyncIterator[-Input]], collections.abc.AsyncIterator[+Output]], langchain_core.runnables.base._RunnableCallableSync[-Input, +Output], langchain_core.runnables.base._RunnableCallableAsync[-Input, +Output], langchain_core.runnables.base._RunnableCallableIterator[-Input, +Output], langchain_core.runnables.base._RunnableCallableAsyncIterator[-Input, +Output], collections.abc.Mapping[str, Any], langgraph._internal._runnable._RunnableWithWriter[-Input, +Output], langgraph._internal._runnable._RunnableWithStore[-Input, +Output], langgraph._internal._runnable._RunnableWithWriterStore[-Input, +Output], langgraph._internal._runnable._RunnableWithConfigWriter[-Input, +Output], langgraph._internal._runnable._RunnableWithConfigStore[-Input, +Output], langgraph._internal._runnable._RunnableWithConfigWriterStore[-Input, +Output], NoneType] = None, post_model_hook: Union[langchain_core.runnables.base.Runnable[-Input, +Output], Callable[[-Input], +Output], Callable[[-Input], collections.abc.Awaitable[+Output]], Callable[[collections.abc.Iterator[-Input]], collections.abc.Iterator[+Output]], Callable[[collections.abc.AsyncIterator[-Input]], collections.abc.AsyncIterator[+Output]], langchain_core.runnables.base._RunnableCallableSync[-Input, +Output], langchain_core.runnables.base._RunnableCallableAsync[-Input, +Output], langchain_core.runnables.base._RunnableCallableIterator[-Input, +Output], langchain_core.runnables.base._RunnableCallableAsyncIterator[-Input, +Output], collections.abc.Mapping[str, Any], langgraph._internal._runnable._RunnableWithWriter[-Input, +Output], langgraph._internal._runnable._RunnableWithStore[-Input, +Output], langgraph._internal._runnable._RunnableWithWriterStore[-Input, +Output], langgraph._internal._runnable._RunnableWithConfigWriter[-Input, +Output], langgraph._internal._runnable._RunnableWithConfigStore[-Input, +Output], langgraph._internal._runnable._RunnableWithConfigWriterStore[-Input, +Output], NoneType] = None, state_schema: Optional[Type[~StateSchema]] = None, context_schema: Optional[Type[Any]] = None, checkpointer: Union[NoneType, bool, langgraph.checkpoint.base.BaseCheckpointSaver] = None, store: Optional[langgraph.store.base.BaseStore] = None, interrupt_before: Optional[list[str]] = None, interrupt_after: Optional[list[str]] = None, debug: bool = False, version: Literal['v1', 'v2'] = 'v2', name: Optional[str] = None, **deprecated_kwargs: Any) -> langgraph.graph.state.CompiledStateGraph\n"
     ]
    }
   ],
   "source": [
    "import inspect\n",
    "print(inspect.signature(create_react_agent))"
   ]
  },
  {
   "cell_type": "code",
   "execution_count": 12,
   "metadata": {},
   "outputs": [
    {
     "data": {
      "image/png": "[encoded data removed]",
      "text/plain": [
       "<IPython.core.display.Image object>"
      ]
     },
     "metadata": {},
     "output_type": "display_data"
    }
   ],
   "source": [
    "# Compile the graph\n",
    "from IPython.display import Image, display\n",
    "\n",
    "display(Image(agent_executor.get_graph().draw_mermaid_png()))"
   ]
  },
  {
   "cell_type": "markdown",
   "metadata": {},
   "source": [
    "# Turn our ReAct Agent into a Chat"
   ]
  },
  {
   "cell_type": "code",
   "execution_count": 13,
   "metadata": {},
   "outputs": [],
   "source": [
    "from langgraph.graph import MessagesState, StateGraph, END\n",
    "from langchain_core.messages import HumanMessage, AIMessage"
   ]
  },
  {
   "cell_type": "code",
   "execution_count": 14,
   "metadata": {},
   "outputs": [],
   "source": [
    "def turn_react_agent_into_chat(agent_executor):\n",
    "    \n",
    "    class ConvoState(MessagesState):\n",
    "        # MessagesState already has messages in it\n",
    "        end: bool\n",
    "    \n",
    "    def get_user_input(state):\n",
    "        user_msg = input(\"\\n🧑 You: \")\n",
    "        if user_msg.strip().lower() == \"exit\":\n",
    "            return {'end': True}\n",
    "        return {\"messages\": HumanMessage(content=user_msg)}\n",
    "    \n",
    "    def run_agent(state):\n",
    "        response = agent_executor.invoke({\"messages\": state[\"messages\"]})\n",
    "        print(f\"\\n🤖 Agent: {response['messages'][-1].content}\")\n",
    "        return {\"messages\": AIMessage(content=response['messages'][-1].content)}\n",
    "    \n",
    "    graph_builder = StateGraph(ConvoState)\n",
    "    graph_builder.add_node(\"get_user_input\", get_user_input)\n",
    "    graph_builder.add_node(\"run_agent\", run_agent)\n",
    "    \n",
    "    graph_builder.set_entry_point(\"get_user_input\")\n",
    "    graph_builder.add_conditional_edges(\n",
    "        \"get_user_input\", \n",
    "        lambda state: 'end' if state.get('end') else 'go',\n",
    "        {\n",
    "            'end': END,\n",
    "            'go': 'run_agent'\n",
    "        }\n",
    "    )\n",
    "    graph_builder.add_edge(\"run_agent\", \"get_user_input\")\n",
    "    \n",
    "    graph = graph_builder.compile()\n",
    "    return graph"
   ]
  },
  {
   "cell_type": "code",
   "execution_count": 15,
   "metadata": {
    "scrolled": true
   },
   "outputs": [
    {
     "name": "stdout",
     "output_type": "stream",
     "text": [
      "💬 Start chatting with the agent! Type 'exit' to stop.\n"
     ]
    },
    {
     "name": "stdout",
     "output_type": "stream",
     "text": [
      "\n",
      "🧑 You:  who is sudhir patil\n"
     ]
    },
    {
     "name": "stdout",
     "output_type": "stream",
     "text": [
      "\n",
      "🤖 Agent: Sudhir Patil appears to be a name associated with multiple individuals in different fields. Here are a few notable references:\n",
      "\n",
      "1. **Film Producer**: Sudhir Patil is known for his work in the Indian film industry, associated with projects like \"Rangkarmi\" (2013), \"Well Done Aai\" (2025), and \"Sasarcha Panga Sauticha Inga\" (2010).\n",
      "\n",
      "2. **Academic/Researcher**: There are mentions of a Sudhir Patil who is a postdoctoral researcher at the University of Florida, with interests in adaptive control, nonlinear control, and deep learning.\n",
      "\n",
      "3. **Tourism Professional**: Another Sudhir Patil was recently inducted into the Hall of Fame for Facilitating Tourism at the Rajasthan Travel Mart in Jaipur.\n",
      "\n",
      "4. **Architectural Consultant**: There is also a mention of Sudhir Patil and Associates, which has been operational since 1995, providing architectural and liaison consultancy services.\n",
      "\n",
      "If you have a specific context in mind for Sudhir Patil, please provide more details!\n"
     ]
    },
    {
     "name": "stdout",
     "output_type": "stream",
     "text": [
      "\n",
      "🧑 You:  sudhir patil who worked in yahoo\n"
     ]
    },
    {
     "name": "stdout",
     "output_type": "stream",
     "text": [
      "\n",
      "🤖 Agent: I wasn't able to find specific information about a Sudhir Patil who worked at Yahoo. However, if you have any additional context or if you're looking for specific details regarding his role or contributions at Yahoo, please let me know!\n"
     ]
    },
    {
     "name": "stdout",
     "output_type": "stream",
     "text": [
      "\n",
      "🧑 You:  sudhir patil who is residing in singapore\n"
     ]
    },
    {
     "name": "stdout",
     "output_type": "stream",
     "text": [
      "\n",
      "🤖 Agent: Sudhir Patil is a seasoned IT professional residing in Singapore. He has experience working at various organizations, including Yahoo, and holds an Engineer's Degree in computer science. He has also worked at DBS Bank and has past roles at Standard Chartered Bank and Citi, among others.\n",
      "\n",
      "If you need more specific details about his career or current role, please let me know!\n"
     ]
    },
    {
     "name": "stdout",
     "output_type": "stream",
     "text": [
      "\n",
      "🧑 You:  exit\n"
     ]
    },
    {
     "data": {
      "text/plain": [
       "{'messages': [HumanMessage(content='who is sudhir patil', additional_kwargs={}, response_metadata={}, id='a2792177-ac1b-4cb0-9c07-5796b333e944'),\n",
       "  AIMessage(content='Sudhir Patil appears to be a name associated with multiple individuals in different fields. Here are a few notable references:\\n\\n1. **Film Producer**: Sudhir Patil is known for his work in the Indian film industry, associated with projects like \"Rangkarmi\" (2013), \"Well Done Aai\" (2025), and \"Sasarcha Panga Sauticha Inga\" (2010).\\n\\n2. **Academic/Researcher**: There are mentions of a Sudhir Patil who is a postdoctoral researcher at the University of Florida, with interests in adaptive control, nonlinear control, and deep learning.\\n\\n3. **Tourism Professional**: Another Sudhir Patil was recently inducted into the Hall of Fame for Facilitating Tourism at the Rajasthan Travel Mart in Jaipur.\\n\\n4. **Architectural Consultant**: There is also a mention of Sudhir Patil and Associates, which has been operational since 1995, providing architectural and liaison consultancy services.\\n\\nIf you have a specific context in mind for Sudhir Patil, please provide more details!', additional_kwargs={}, response_metadata={}, id='09d682ed-41f2-4f8d-8c79-b0b922ad187c'),\n",
       "  HumanMessage(content='sudhir patil who worked in yahoo', additional_kwargs={}, response_metadata={}, id='93a495f0-2d77-4382-a94d-a9d9ec93ce48'),\n",
       "  AIMessage(content=\"I wasn't able to find specific information about a Sudhir Patil who worked at Yahoo. However, if you have any additional context or if you're looking for specific details regarding his role or contributions at Yahoo, please let me know!\", additional_kwargs={}, response_metadata={}, id='461c003b-331f-48d7-9235-1cf4a133e3db'),\n",
       "  HumanMessage(content='sudhir patil who is residing in singapore', additional_kwargs={}, response_metadata={}, id='9123d533-c0ee-4ada-a7ed-212a14f99675'),\n",
       "  AIMessage(content=\"Sudhir Patil is a seasoned IT professional residing in Singapore. He has experience working at various organizations, including Yahoo, and holds an Engineer's Degree in computer science. He has also worked at DBS Bank and has past roles at Standard Chartered Bank and Citi, among others.\\n\\nIf you need more specific details about his career or current role, please let me know!\", additional_kwargs={}, response_metadata={}, id='756ac988-fedd-424d-bd48-86959c31d7ca')],\n",
       " 'end': True}"
      ]
     },
     "execution_count": 15,
     "metadata": {},
     "output_type": "execute_result"
    }
   ],
   "source": [
    "graph = turn_react_agent_into_chat(agent_executor)\n",
    "print(\"💬 Start chatting with the agent! Type 'exit' to stop.\")\n",
    "graph.invoke({\"messages\": []})"
   ]
  },
  {
   "cell_type": "code",
   "execution_count": 16,
   "metadata": {},
   "outputs": [
    {
     "data": {
      "image/png": "[encoded data removed]",
      "text/plain": [
       "<IPython.core.display.Image object>"
      ]
     },
     "metadata": {},
     "output_type": "display_data"
    }
   ],
   "source": [
    "# Compile the graph\n",
    "from IPython.display import Image, display\n",
    "\n",
    "display(Image(graph.get_graph().draw_mermaid_png()))"
   ]
  },
  {
   "cell_type": "markdown",
   "metadata": {},
   "source": [
    "# Bringing MCP into the mix"
   ]
  },
  {
   "cell_type": "code",
   "execution_count": 19,
   "metadata": {},
   "outputs": [],
   "source": [
    "# Import necessary libraries\n",
    "from mcp import ClientSession, StdioServerParameters\n",
    "from mcp.client.stdio import stdio_client\n",
    "from langchain_mcp_adapters.tools import load_mcp_tools\n",
    "from langgraph.prebuilt import create_react_agent\n",
    "import nest_asyncio\n",
    "\n",
    "# Apply nest_asyncio to handle nested event loops\n",
    "nest_asyncio.apply()"
   ]
  },
  {
   "cell_type": "code",
   "execution_count": 20,
   "metadata": {},
   "outputs": [
    {
     "name": "stdout",
     "output_type": "stream",
     "text": [
      "Saved to: /Users/sudhirpatil/code/oreilly-ai-agents/notebooks/mcp_server.py\n"
     ]
    }
   ],
   "source": [
    "import os\n",
    "\n",
    "# Note this is NOT an production ready MCP server, don't include env variables this way. \n",
    "#  I'm doing this so I can work in a notebook\n",
    "MCP_SERVER = f'''\n",
    "from mcp.server.fastmcp import FastMCP\n",
    "from langchain_community.utilities import SerpAPIWrapper\n",
    "import os\n",
    "\n",
    "mcp = FastMCP(\"MCP Example\")\n",
    "\n",
    "@mcp.tool()\n",
    "def add(a: int, b: int) -> int:\n",
    "    \"\"\"Add two numbers\"\"\"\n",
    "    return a + b\n",
    "\n",
    "@mcp.tool()\n",
    "def multiply(a: int, b: int) -> int:\n",
    "    \"\"\"Multiply two numbers\"\"\"\n",
    "    return a * b\n",
    "\n",
    "@mcp.tool()\n",
    "def google_something(query: str) -> str:\n",
    "    \"\"\"Online Realtime Web Search\"\"\"\n",
    "    serpapi = SerpAPIWrapper(serpapi_api_key=\"{os.getenv(\"SERPAPI_API_KEY\")}\")\n",
    "    return serpapi.run(query)\n",
    "\n",
    "if __name__ == \"__main__\":\n",
    "    mcp.run(transport=\"stdio\")\n",
    "'''\n",
    "\n",
    "mcp_path = 'mcp_server.py'\n",
    "\n",
    "with open(mcp_path, 'w') as f:\n",
    "    f.write(MCP_SERVER)\n",
    "\n",
    "print(\"Saved to:\", os.path.abspath(mcp_path))\n"
   ]
  },
  {
   "cell_type": "code",
   "execution_count": 21,
   "metadata": {},
   "outputs": [
    {
     "name": "stdout",
     "output_type": "stream",
     "text": [
      "Tool Name: add\n",
      "Tool Description: Add two numbers\n",
      "Tool Args Schema: {'properties': {'a': {'title': 'A', 'type': 'integer'}, 'b': {'title': 'B', 'type': 'integer'}}, 'required': ['a', 'b'], 'title': 'addArguments', 'type': 'object'}\n",
      "Tool Args : content_and_artifact\n",
      "------\n",
      "Tool Name: multiply\n",
      "Tool Description: Multiply two numbers\n",
      "Tool Args Schema: {'properties': {'a': {'title': 'A', 'type': 'integer'}, 'b': {'title': 'B', 'type': 'integer'}}, 'required': ['a', 'b'], 'title': 'multiplyArguments', 'type': 'object'}\n",
      "Tool Args : content_and_artifact\n",
      "------\n",
      "Tool Name: google_something\n",
      "Tool Description: Online Realtime Web Search\n",
      "Tool Args Schema: {'properties': {'query': {'title': 'Query', 'type': 'string'}}, 'required': ['query'], 'title': 'google_somethingArguments', 'type': 'object'}\n",
      "Tool Args : content_and_artifact\n",
      "------\n"
     ]
    }
   ],
   "source": [
    "from langchain_openai import ChatOpenAI\n",
    "llm = ChatOpenAI(model=\"gpt-4o-mini\")\n",
    "\n",
    "server_params = StdioServerParameters(\n",
    "    command=\"python\",\n",
    "    args=[os.path.abspath(mcp_path)]\n",
    ")\n",
    "\n",
    "async def agent_run_async(m):\n",
    "    async with stdio_client(server_params) as (read, write):\n",
    "        async with ClientSession(read, write) as session:\n",
    "            await session.initialize()\n",
    "            mcp_tools = await load_mcp_tools(session)\n",
    "            for tool in mcp_tools:\n",
    "                print(f'Tool Name: {tool.name}')\n",
    "                print(f'Tool Description: {tool.description}')\n",
    "                print(f'Tool Args Schema: {tool.args_schema}')\n",
    "                print(f'Tool Args : {tool.response_format}')\n",
    "                print('------')\n",
    "            agent = create_react_agent(llm, mcp_tools)\n",
    "            response = await agent.ainvoke({\"messages\": m})\n",
    "            return response\n",
    "\n",
    "agent_response = await agent_run_async(\"what's the current price of bitcoin times 12?\")"
   ]
  },
  {
   "cell_type": "code",
   "execution_count": 22,
   "metadata": {},
   "outputs": [
    {
     "data": {
      "text/plain": [
       "AIMessage(content='The current price of Bitcoin multiplied by 12 is $1,339,044.00.', additional_kwargs={'refusal': None}, response_metadata={'token_usage': {'completion_tokens': 20, 'prompt_tokens': 157, 'total_tokens': 177, 'completion_tokens_details': {'accepted_prediction_tokens': 0, 'audio_tokens': 0, 'reasoning_tokens': 0, 'rejected_prediction_tokens': 0}, 'prompt_tokens_details': {'audio_tokens': 0, 'cached_tokens': 0}}, 'model_name': 'gpt-4o-mini-2024-07-18', 'system_fingerprint': 'fp_560af6e559', 'id': 'chatcmpl-CPmUvc39XfsXhW69Rab9m4hf2Z9Ul', 'service_tier': 'default', 'finish_reason': 'stop', 'logprobs': None}, id='run--dc3be998-651c-436e-8710-4b37d14684fa-0', usage_metadata={'input_tokens': 157, 'output_tokens': 20, 'total_tokens': 177, 'input_token_details': {'audio': 0, 'cache_read': 0}, 'output_token_details': {'audio': 0, 'reasoning': 0}})"
      ]
     },
     "execution_count": 22,
     "metadata": {},
     "output_type": "execute_result"
    }
   ],
   "source": [
    "agent_response['messages'][-1]"
   ]
  },
  {
   "cell_type": "code",
   "execution_count": 23,
   "metadata": {},
   "outputs": [
    {
     "name": "stdout",
     "output_type": "stream",
     "text": [
      "<class 'langchain_core.messages.human.HumanMessage'> what's the current price of bitcoin times 12? \n",
      "----\n",
      "<class 'langchain_core.messages.ai.AIMessage'>  \n",
      "Tool Call: ID(call_CSQGHv72BwjRScC9AGxklj6I), Name(google_something), Args({\"query\":\"current price of Bitcoin\"})\n",
      "----\n",
      "<class 'langchain_core.messages.tool.ToolMessage'> 111,587.00 Tool ID:call_CSQGHv72BwjRScC9AGxklj6I\n",
      "----\n",
      "<class 'langchain_core.messages.ai.AIMessage'>  \n",
      "Tool Call: ID(call_qgkmQLdlvQpN5zDzJZcw6McR), Name(multiply), Args({\"a\":111587,\"b\":12})\n",
      "----\n",
      "<class 'langchain_core.messages.tool.ToolMessage'> 1339044 Tool ID:call_qgkmQLdlvQpN5zDzJZcw6McR\n",
      "----\n",
      "<class 'langchain_core.messages.ai.AIMessage'> The current price of Bitcoin multiplied by 12 is $1,339,044.00. \n",
      "----\n"
     ]
    }
   ],
   "source": [
    "for message in agent_response['messages']:\n",
    "    print(type(message), message.content, 'Tool ID:' + message.tool_call_id if hasattr(message, 'tool_call_id') else '')\n",
    "    if message.additional_kwargs.get('tool_calls'):\n",
    "        for tool_call in message.additional_kwargs.get('tool_calls'):\n",
    "            print(f'Tool Call: ID({tool_call[\"id\"]}), Name({tool_call[\"function\"][\"name\"]}), Args({tool_call[\"function\"][\"arguments\"]})')\n",
    "    print('----')"
   ]
  },
  {
   "cell_type": "code",
   "execution_count": 24,
   "metadata": {},
   "outputs": [
    {
     "data": {
      "text/plain": [
       "6"
      ]
     },
     "execution_count": 24,
     "metadata": {},
     "output_type": "execute_result"
    }
   ],
   "source": [
    "len(agent_response['messages'])"
   ]
  },
  {
   "cell_type": "code",
   "execution_count": null,
   "metadata": {},
   "outputs": [],
   "source": []
  },
  {
   "cell_type": "code",
   "execution_count": null,
   "metadata": {},
   "outputs": [],
   "source": []
  },
  {
   "cell_type": "markdown",
   "metadata": {},
   "source": [
    "# Testing for Accuracy + Positional Bias"
   ]
  },
  {
   "cell_type": "code",
   "execution_count": null,
   "metadata": {},
   "outputs": [],
   "source": []
  },
  {
   "cell_type": "code",
   "execution_count": 25,
   "metadata": {},
   "outputs": [],
   "source": [
    "tool_selection_test_data = [\n",
    "    ('What is the price of ethereum right now?', 'crypto_and_nft_tool'),\n",
    "    ('What is the price of bitcoin right now?', 'crypto_and_nft_tool'),\n",
    "    ('Check the floor price of the world of women nft', 'crypto_and_nft_tool'),\n",
    "\n",
    "    ('Add a new row and just write \"To do\" in it', 'google_spreadsheet_tool'),\n",
    "    ('Add this data to the spreadsheet: \"1, 2, 3\"', 'google_spreadsheet_tool'),\n",
    "    ('Add: \"Sinan, LoopGenius\" to the spreadsheet', 'google_spreadsheet_tool'),\n",
    "\n",
    "    ('Go to https://loopgenius.com and tell me about it', 'firecrawl_tool'),\n",
    "    ('Visit https://github.com/trending and list top repositories', 'firecrawl_tool'),\n",
    "    ('Scrape the main headlines from https://news.ycombinator.com', 'firecrawl_tool'),\n",
    "    ('Go to https://en.wikipedia.org/wiki/Python_(programming_language) and summarize the introduction', 'firecrawl_tool'),\n",
    "    ('Check the documentation at https://pytorch.org and tell me the latest version name', 'firecrawl_tool'),\n",
    "    ('Visit https://openai.com and summarize the homepage', 'firecrawl_tool'),\n",
    "    ('What is the headline on https://bbc.com/news', 'firecrawl_tool'),\n",
    "\n",
    "    ('What are the current gas prices in Chicago?', 'serp_tool'),\n",
    "    ('What is the weather in San Francisco?', 'serp_tool'),\n",
    "    ('Find the intro.co link for Sinan Ozdemir', 'serp_tool'),\n",
    "    ('What is the release date of the next Marvel movie?', 'serp_tool'),\n",
    "    ('Who won the latest Super Bowl?', 'serp_tool'),\n",
    "    ('What are the top restaurants in New York City?', 'serp_tool'),\n",
    "    ('Get the latest stock price for Apple (AAPL)', 'serp_tool'),\n",
    "    ('List the top 5 popular programming languages in 2024', 'serp_tool'),\n",
    "    ('Look up the conversion from 98 degrees Fahrenheit to Celsius on the web', 'serp_tool'),\n",
    "\n",
    "    ('Convert 98 degrees Fahrenheit to Celsius using Python', 'python_repl_tool'),\n",
    "    ('Write a function that yields the nth fibonacci number and use it to find the 100th fibonacci number', 'python_repl_tool'),\n",
    "    ('Calculate the factorial of 10 using Python', 'python_repl_tool'),\n",
    "    ('Calculate 15% of 34543.453', 'python_repl_tool'),\n",
    "    ('Convert 42 kilometers to miles using a function in Python', 'python_repl_tool'),\n",
    "    ('Generate a random number between 1 and 1000', 'python_repl_tool'),\n",
    "]\n"
   ]
  },
  {
   "cell_type": "code",
   "execution_count": null,
   "metadata": {},
   "outputs": [],
   "source": []
  },
  {
   "cell_type": "code",
   "execution_count": 26,
   "metadata": {},
   "outputs": [
    {
     "name": "stdout",
     "output_type": "stream",
     "text": [
      "Saved to: /Users/sudhirpatil/code/oreilly-ai-agents/notebooks/random_mcp_server.py\n",
      "Tool order: ['google_spreadsheet_tool', 'crypto_and_nft_tool', 'python_repl_tool', 'serp_tool', 'firecrawl_tool']\n"
     ]
    }
   ],
   "source": [
    "import os\n",
    "import random\n",
    "\n",
    "# Define tool snippets\n",
    "tool_snippets = [\n",
    "    '''\n",
    "@mcp.tool()\n",
    "def google_spreadsheet_tool(action: str = \"append_to_sheet\", **kwargs) -> dict:\n",
    "    \"\"\"\n",
    "    Executes specified actions on the Google Spreadsheet.\n",
    "\n",
    "    :param action: The action to perform (\"append_to_sheet\", \"search\", \"insert_into_cell\", \"get_data_in_range\", \"describe\").\n",
    "    :Additional arguments for each specific action:\n",
    "        - \"search\": \n",
    "            \"search\" will return the row indices where the search_value is found in the column_name.\n",
    "            Requires 'search_value' and 'column_name'. Example: {\"action\": \"search\", \"search_value\": \"John\", \"column_name\": \"Name\"}\n",
    "        - \"append_to_sheet\":\n",
    "            \"append_to_sheet\" will append the data to the end of the sheet.\n",
    "            Requires 'data'. Example: {\"action\": \"append_to_sheet\", \"data\": [[\"John\", \"Doe\", \"john.doe@example.com\"], [\"Jane\", \"Smith\", \"jane.smith@example.com\"]]}\n",
    "        - \"insert_into_cell\": \n",
    "            \"insert_into_cell\" will insert the value into the specified cell.\n",
    "            Requires 'value' and 'cell'. Example: {\"action\": \"insert_into_cell\", \"value\": \"New Value\", \"cell\": \"A1\"}\n",
    "        - \"get_data_in_range\": \n",
    "            \"get_data_in_range\" will return the data in the specified range.\n",
    "            Requires 'range_name'. Example: {\"action\": \"get_data_in_range\", \"range_name\": \"Sheet1!A1:B2\"} or {\"action\": \"get_data_in_range\",    \"range_name\": \"Contacts!A12:G28\"}\n",
    "        - \"describe\": \n",
    "            \"describe\" will return the number of columns and rows in the sheet.\n",
    "            No additional arguments. Example: {\"action\": \"describe\"}\n",
    "    :return: The result of the operation.\n",
    "    \"\"\"\n",
    "''',\n",
    "    '''\n",
    "@mcp.tool()\n",
    "def crypto_and_nft_tool(query: str) -> str:\n",
    "    \"\"\"Get current cryptocurrency prices and NFT prices around the world and for a specific wallet.\"\"\"\n",
    "    return f\"Fake response for crypto/NFT query: {query}\"\n",
    "''',\n",
    "    '''\n",
    "@mcp.tool()\n",
    "def firecrawl_tool(website_url: str) -> str:\n",
    "    \"\"\"\n",
    "    Crawl webpages and return a markdown version of the html on the page\n",
    "    :param website_url: The URL of the website to scrape\n",
    "    \"\"\"\n",
    "    return f\"Scraped data from: {website_url}\"\n",
    "''',\n",
    "    '''\n",
    "@mcp.tool()\n",
    "def serp_tool(query: str) -> str:\n",
    "    \"\"\"Search the web for information using the Google Search Engine\"\"\"\n",
    "    return f\"Search result for query: {query}\"\n",
    "''',\n",
    "    '''\n",
    "@mcp.tool()\n",
    "def python_repl_tool(code: str) -> str:\n",
    "    \"\"\"\n",
    "    Execute valid python code and returns the printed values in the code\n",
    "    :param command: The Python command to run. Always end with a print statement to show the output like \"print(output)\"\n",
    "    \"\"\"\n",
    "    try:\n",
    "        result = eval(code)\n",
    "        return str(result)\n",
    "    except Exception as e:\n",
    "        return f\"Error: {e}\"\n",
    "'''\n",
    "]\n",
    "\n",
    "def generate_random_mcp_order(mcp_path='random_mcp_server.py'):\n",
    "    # Shuffle tool definitions\n",
    "    random.shuffle(tool_snippets)\n",
    "    \n",
    "    # Create full server code\n",
    "    MCP_SERVER = f'''\n",
    "from mcp.server.fastmcp import FastMCP\n",
    "from langchain_community.tools import DuckDuckGoSearchRun\n",
    "\n",
    "mcp = FastMCP(\"MCP Example\")\n",
    "{''.join(tool_snippets)}\n",
    "\n",
    "if __name__ == \"__main__\":\n",
    "    mcp.run(transport=\"stdio\")\n",
    "    '''\n",
    "    \n",
    "    # Save to file\n",
    "    with open(mcp_path, 'w') as f:\n",
    "        f.write(MCP_SERVER)\n",
    "    \n",
    "    return os.path.abspath(mcp_path), [t.split('def')[-1].split('(')[0].strip() for t in tool_snippets]\n",
    "random_mcp, tools = generate_random_mcp_order()\n",
    "\n",
    "print(f\"Saved to: {random_mcp}\\nTool order: {tools}\")"
   ]
  },
  {
   "cell_type": "code",
   "execution_count": 27,
   "metadata": {},
   "outputs": [
    {
     "data": {
      "text/plain": [
       "['google_spreadsheet_tool',\n",
       " 'crypto_and_nft_tool',\n",
       " 'python_repl_tool',\n",
       " 'serp_tool',\n",
       " 'firecrawl_tool']"
      ]
     },
     "execution_count": 27,
     "metadata": {},
     "output_type": "execute_result"
    }
   ],
   "source": [
    "import json\n",
    "tools"
   ]
  },
  {
   "cell_type": "code",
   "execution_count": null,
   "metadata": {
    "scrolled": true
   },
   "outputs": [],
   "source": []
  },
  {
   "cell_type": "code",
   "execution_count": 28,
   "metadata": {},
   "outputs": [],
   "source": [
    "from langchain_core.messages.human import HumanMessage\n",
    "\n",
    "async def tool_use_run(llm, initial_message):\n",
    "    random_mcp_path, mcp_tool_order = generate_random_mcp_order()\n",
    "    server_params = StdioServerParameters(command=\"python\", args=[random_mcp_path])\n",
    "    \n",
    "    async with stdio_client(server_params) as (read, write):\n",
    "        async with ClientSession(read, write) as session:\n",
    "            await session.initialize()\n",
    "            tools = await load_mcp_tools(session)\n",
    "            ai_message = llm.bind_tools(tools).invoke([HumanMessage(content=initial_message)])\n",
    "            tools_used = []\n",
    "            if type(ai_message.content) == list:\n",
    "                for c in ai_message.content:  # anthropic\n",
    "                    if c['type'] == 'tool_use':\n",
    "                        tools_used.append((c['name'], c['input']))\n",
    "            if hasattr(ai_message, 'additional_kwargs') and 'tool_calls' in ai_message.additional_kwargs:  # openai\n",
    "                for tc in ai_message.additional_kwargs['tool_calls']:\n",
    "                    tools_used.append((tc['function']['name'], tc['function']['arguments']))\n",
    "            return ai_message, tools_used, mcp_tool_order"
   ]
  },
  {
   "cell_type": "code",
   "execution_count": 29,
   "metadata": {},
   "outputs": [
    {
     "name": "stderr",
     "output_type": "stream",
     "text": [
      "  + Exception Group Traceback (most recent call last):\n",
      "  |   File \"/Users/sudhirpatil/code/oreilly-ai-agents/.venv/lib/python3.11/site-packages/IPython/core/interactiveshell.py\", line 3697, in run_code\n",
      "  |     await eval(code_obj, self.user_global_ns, self.user_ns)\n",
      "  |   File \"/var/folders/s6/2yjn7mrx2k1ch9m_rsw_dpj00000gn/T/ipykernel_33666/2256591507.py\", line 2, in <module>\n",
      "  |     await tool_use_run(llm, 'look up Sinan Ozdemir')\n",
      "  |   File \"/var/folders/s6/2yjn7mrx2k1ch9m_rsw_dpj00000gn/T/ipykernel_33666/1874888625.py\", line 7, in tool_use_run\n",
      "  |     async with stdio_client(server_params) as (read, write):\n",
      "  |   File \"/Users/sudhirpatil/miniconda3/lib/python3.11/contextlib.py\", line 222, in __aexit__\n",
      "  |     await self.gen.athrow(typ, value, traceback)\n",
      "  |   File \"/Users/sudhirpatil/code/oreilly-ai-agents/.venv/lib/python3.11/site-packages/mcp/client/stdio/__init__.py\", line 181, in stdio_client\n",
      "  |     async with (\n",
      "  |   File \"/Users/sudhirpatil/code/oreilly-ai-agents/.venv/lib/python3.11/site-packages/anyio/_backends/_asyncio.py\", line 781, in __aexit__\n",
      "  |     raise BaseExceptionGroup(\n",
      "  | ExceptionGroup: unhandled errors in a TaskGroup (1 sub-exception)\n",
      "  +-+---------------- 1 ----------------\n",
      "    | Exception Group Traceback (most recent call last):\n",
      "    |   File \"/Users/sudhirpatil/code/oreilly-ai-agents/.venv/lib/python3.11/site-packages/mcp/client/stdio/__init__.py\", line 188, in stdio_client\n",
      "    |     yield read_stream, write_stream\n",
      "    |   File \"/var/folders/s6/2yjn7mrx2k1ch9m_rsw_dpj00000gn/T/ipykernel_33666/1874888625.py\", line 8, in tool_use_run\n",
      "    |     async with ClientSession(read, write) as session:\n",
      "    |   File \"/Users/sudhirpatil/code/oreilly-ai-agents/.venv/lib/python3.11/site-packages/anyio/_backends/_asyncio.py\", line 781, in __aexit__\n",
      "    |     raise BaseExceptionGroup(\n",
      "    | ExceptionGroup: unhandled errors in a TaskGroup (1 sub-exception)\n",
      "    +-+---------------- 1 ----------------\n",
      "      | Traceback (most recent call last):\n",
      "      |   File \"/var/folders/s6/2yjn7mrx2k1ch9m_rsw_dpj00000gn/T/ipykernel_33666/1874888625.py\", line 11, in tool_use_run\n",
      "      |     ai_message = llm.bind_tools(tools).invoke([HumanMessage(content=initial_message)])\n",
      "      |                  ^^^^^^^^^^^^^^^^^^^^^^^^^^^^^^^^^^^^^^^^^^^^^^^^^^^^^^^^^^^^^^^^^^^^^\n",
      "      |   File \"/Users/sudhirpatil/code/oreilly-ai-agents/.venv/lib/python3.11/site-packages/langchain_core/runnables/base.py\", line 5711, in invoke\n",
      "      |     return self.bound.invoke(\n",
      "      |            ^^^^^^^^^^^^^^^^^^\n",
      "      |   File \"/Users/sudhirpatil/code/oreilly-ai-agents/.venv/lib/python3.11/site-packages/langchain_core/language_models/chat_models.py\", line 395, in invoke\n",
      "      |     self.generate_prompt(\n",
      "      |   File \"/Users/sudhirpatil/code/oreilly-ai-agents/.venv/lib/python3.11/site-packages/langchain_core/language_models/chat_models.py\", line 1025, in generate_prompt\n",
      "      |     return self.generate(prompt_messages, stop=stop, callbacks=callbacks, **kwargs)\n",
      "      |            ^^^^^^^^^^^^^^^^^^^^^^^^^^^^^^^^^^^^^^^^^^^^^^^^^^^^^^^^^^^^^^^^^^^^^^^^\n",
      "      |   File \"/Users/sudhirpatil/code/oreilly-ai-agents/.venv/lib/python3.11/site-packages/langchain_core/language_models/chat_models.py\", line 842, in generate\n",
      "      |     self._generate_with_cache(\n",
      "      |   File \"/Users/sudhirpatil/code/oreilly-ai-agents/.venv/lib/python3.11/site-packages/langchain_core/language_models/chat_models.py\", line 1091, in _generate_with_cache\n",
      "      |     result = self._generate(\n",
      "      |              ^^^^^^^^^^^^^^^\n",
      "      |   File \"/Users/sudhirpatil/code/oreilly-ai-agents/.venv/lib/python3.11/site-packages/langchain_anthropic/chat_models.py\", line 1764, in _generate\n",
      "      |     data = self._create(payload)\n",
      "      |            ^^^^^^^^^^^^^^^^^^^^^\n",
      "      |   File \"/Users/sudhirpatil/code/oreilly-ai-agents/.venv/lib/python3.11/site-packages/langchain_anthropic/chat_models.py\", line 1623, in _create\n",
      "      |     return self._client.messages.create(**payload)\n",
      "      |            ^^^^^^^^^^^^^^^^^^^^^^^^^^^^^^^^^^^^^^^\n",
      "      |   File \"/Users/sudhirpatil/code/oreilly-ai-agents/.venv/lib/python3.11/site-packages/anthropic/_utils/_utils.py\", line 282, in wrapper\n",
      "      |     return func(*args, **kwargs)\n",
      "      |            ^^^^^^^^^^^^^^^^^^^^^\n",
      "      |   File \"/Users/sudhirpatil/code/oreilly-ai-agents/.venv/lib/python3.11/site-packages/anthropic/resources/messages/messages.py\", line 930, in create\n",
      "      |     return self._post(\n",
      "      |            ^^^^^^^^^^^\n",
      "      |   File \"/Users/sudhirpatil/code/oreilly-ai-agents/.venv/lib/python3.11/site-packages/anthropic/_base_client.py\", line 1324, in post\n",
      "      |     return cast(ResponseT, self.request(cast_to, opts, stream=stream, stream_cls=stream_cls))\n",
      "      |                            ^^^^^^^^^^^^^^^^^^^^^^^^^^^^^^^^^^^^^^^^^^^^^^^^^^^^^^^^^^^^^^^^^\n",
      "      |   File \"/Users/sudhirpatil/code/oreilly-ai-agents/.venv/lib/python3.11/site-packages/anthropic/_base_client.py\", line 1033, in request\n",
      "      |     request = self._build_request(options, retries_taken=retries_taken)\n",
      "      |               ^^^^^^^^^^^^^^^^^^^^^^^^^^^^^^^^^^^^^^^^^^^^^^^^^^^^^^^^^\n",
      "      |   File \"/Users/sudhirpatil/code/oreilly-ai-agents/.venv/lib/python3.11/site-packages/anthropic/_base_client.py\", line 506, in _build_request\n",
      "      |     headers = self._build_headers(options, retries_taken=retries_taken)\n",
      "      |               ^^^^^^^^^^^^^^^^^^^^^^^^^^^^^^^^^^^^^^^^^^^^^^^^^^^^^^^^^\n",
      "      |   File \"/Users/sudhirpatil/code/oreilly-ai-agents/.venv/lib/python3.11/site-packages/anthropic/_base_client.py\", line 447, in _build_headers\n",
      "      |     self._validate_headers(headers_dict, custom_headers)\n",
      "      |   File \"/Users/sudhirpatil/code/oreilly-ai-agents/.venv/lib/python3.11/site-packages/anthropic/_client.py\", line 196, in _validate_headers\n",
      "      |     raise TypeError(\n",
      "      | TypeError: \"Could not resolve authentication method. Expected either api_key or auth_token to be set. Or for one of the `X-Api-Key` or `Authorization` headers to be explicitly omitted\"\n",
      "      +------------------------------------\n"
     ]
    }
   ],
   "source": [
    "llm = ChatAnthropic(model_name='claude-3-7-sonnet-latest', temperature=1)\n",
    "await tool_use_run(llm, 'look up Sinan Ozdemir')"
   ]
  },
  {
   "cell_type": "code",
   "execution_count": 32,
   "metadata": {},
   "outputs": [
    {
     "name": "stderr",
     "output_type": "stream",
     "text": [
      "  + Exception Group Traceback (most recent call last):\n",
      "  |   File \"/Users/sudhirpatil/code/oreilly-ai-agents/.venv/lib/python3.11/site-packages/IPython/core/interactiveshell.py\", line 3697, in run_code\n",
      "  |     await eval(code_obj, self.user_global_ns, self.user_ns)\n",
      "  |   File \"/var/folders/s6/2yjn7mrx2k1ch9m_rsw_dpj00000gn/T/ipykernel_33666/1754139658.py\", line 2, in <module>\n",
      "  |     await tool_use_run(llm, 'look up Sinan Ozdemir')\n",
      "  |   File \"/var/folders/s6/2yjn7mrx2k1ch9m_rsw_dpj00000gn/T/ipykernel_33666/1874888625.py\", line 7, in tool_use_run\n",
      "  |     async with stdio_client(server_params) as (read, write):\n",
      "  |   File \"/Users/sudhirpatil/miniconda3/lib/python3.11/contextlib.py\", line 222, in __aexit__\n",
      "  |     await self.gen.athrow(typ, value, traceback)\n",
      "  |   File \"/Users/sudhirpatil/code/oreilly-ai-agents/.venv/lib/python3.11/site-packages/mcp/client/stdio/__init__.py\", line 181, in stdio_client\n",
      "  |     async with (\n",
      "  |   File \"/Users/sudhirpatil/code/oreilly-ai-agents/.venv/lib/python3.11/site-packages/anyio/_backends/_asyncio.py\", line 781, in __aexit__\n",
      "  |     raise BaseExceptionGroup(\n",
      "  | ExceptionGroup: unhandled errors in a TaskGroup (1 sub-exception)\n",
      "  +-+---------------- 1 ----------------\n",
      "    | Exception Group Traceback (most recent call last):\n",
      "    |   File \"/Users/sudhirpatil/code/oreilly-ai-agents/.venv/lib/python3.11/site-packages/mcp/client/stdio/__init__.py\", line 188, in stdio_client\n",
      "    |     yield read_stream, write_stream\n",
      "    |   File \"/var/folders/s6/2yjn7mrx2k1ch9m_rsw_dpj00000gn/T/ipykernel_33666/1874888625.py\", line 8, in tool_use_run\n",
      "    |     async with ClientSession(read, write) as session:\n",
      "    |   File \"/Users/sudhirpatil/code/oreilly-ai-agents/.venv/lib/python3.11/site-packages/anyio/_backends/_asyncio.py\", line 781, in __aexit__\n",
      "    |     raise BaseExceptionGroup(\n",
      "    | ExceptionGroup: unhandled errors in a TaskGroup (1 sub-exception)\n",
      "    +-+---------------- 1 ----------------\n",
      "      | Traceback (most recent call last):\n",
      "      |   File \"/var/folders/s6/2yjn7mrx2k1ch9m_rsw_dpj00000gn/T/ipykernel_33666/1874888625.py\", line 11, in tool_use_run\n",
      "      |     ai_message = llm.bind_tools(tools).invoke([HumanMessage(content=initial_message)])\n",
      "      |                  ^^^^^^^^^^^^^^^^^^^^^^^^^^^^^^^^^^^^^^^^^^^^^^^^^^^^^^^^^^^^^^^^^^^^^\n",
      "      |   File \"/Users/sudhirpatil/code/oreilly-ai-agents/.venv/lib/python3.11/site-packages/langchain_core/runnables/base.py\", line 5711, in invoke\n",
      "      |     return self.bound.invoke(\n",
      "      |            ^^^^^^^^^^^^^^^^^^\n",
      "      |   File \"/Users/sudhirpatil/code/oreilly-ai-agents/.venv/lib/python3.11/site-packages/langchain_core/language_models/chat_models.py\", line 395, in invoke\n",
      "      |     self.generate_prompt(\n",
      "      |   File \"/Users/sudhirpatil/code/oreilly-ai-agents/.venv/lib/python3.11/site-packages/langchain_core/language_models/chat_models.py\", line 1025, in generate_prompt\n",
      "      |     return self.generate(prompt_messages, stop=stop, callbacks=callbacks, **kwargs)\n",
      "      |            ^^^^^^^^^^^^^^^^^^^^^^^^^^^^^^^^^^^^^^^^^^^^^^^^^^^^^^^^^^^^^^^^^^^^^^^^\n",
      "      |   File \"/Users/sudhirpatil/code/oreilly-ai-agents/.venv/lib/python3.11/site-packages/langchain_core/language_models/chat_models.py\", line 842, in generate\n",
      "      |     self._generate_with_cache(\n",
      "      |   File \"/Users/sudhirpatil/code/oreilly-ai-agents/.venv/lib/python3.11/site-packages/langchain_core/language_models/chat_models.py\", line 1091, in _generate_with_cache\n",
      "      |     result = self._generate(\n",
      "      |              ^^^^^^^^^^^^^^^\n",
      "      |   File \"/Users/sudhirpatil/code/oreilly-ai-agents/.venv/lib/python3.11/site-packages/langchain_openai/chat_models/base.py\", line 1184, in _generate\n",
      "      |     raise e\n",
      "      |   File \"/Users/sudhirpatil/code/oreilly-ai-agents/.venv/lib/python3.11/site-packages/langchain_openai/chat_models/base.py\", line 1179, in _generate\n",
      "      |     raw_response = self.client.with_raw_response.create(**payload)\n",
      "      |                    ^^^^^^^^^^^^^^^^^^^^^^^^^^^^^^^^^^^^^^^^^^^^^^^\n",
      "      |   File \"/Users/sudhirpatil/code/oreilly-ai-agents/.venv/lib/python3.11/site-packages/openai/_legacy_response.py\", line 364, in wrapped\n",
      "      |     return cast(LegacyAPIResponse[R], func(*args, **kwargs))\n",
      "      |                                       ^^^^^^^^^^^^^^^^^^^^^\n",
      "      |   File \"/Users/sudhirpatil/code/oreilly-ai-agents/.venv/lib/python3.11/site-packages/openai/_utils/_utils.py\", line 286, in wrapper\n",
      "      |     return func(*args, **kwargs)\n",
      "      |            ^^^^^^^^^^^^^^^^^^^^^\n",
      "      |   File \"/Users/sudhirpatil/code/oreilly-ai-agents/.venv/lib/python3.11/site-packages/openai/resources/chat/completions/completions.py\", line 1147, in create\n",
      "      |     return self._post(\n",
      "      |            ^^^^^^^^^^^\n",
      "      |   File \"/Users/sudhirpatil/code/oreilly-ai-agents/.venv/lib/python3.11/site-packages/openai/_base_client.py\", line 1259, in post\n",
      "      |     return cast(ResponseT, self.request(cast_to, opts, stream=stream, stream_cls=stream_cls))\n",
      "      |                            ^^^^^^^^^^^^^^^^^^^^^^^^^^^^^^^^^^^^^^^^^^^^^^^^^^^^^^^^^^^^^^^^^\n",
      "      |   File \"/Users/sudhirpatil/code/oreilly-ai-agents/.venv/lib/python3.11/site-packages/openai/_base_client.py\", line 1047, in request\n",
      "      |     raise self._make_status_error_from_response(err.response) from None\n",
      "      | openai.BadRequestError: Error code: 400 - {'error': {'message': 'invalid model ID', 'type': 'invalid_request_error', 'param': None, 'code': None}}\n",
      "      +------------------------------------\n"
     ]
    }
   ],
   "source": [
    "llm = ChatOpenAI(model=\"openrouter/optimus-alpha\", temperature=1, base_url=\"https://openrouter.ai/api/v1\", api_key=os.environ[\"OPENROUTER_API_KEY\"])\n",
    "await tool_use_run(llm, 'look up Sinan Ozdemir')"
   ]
  },
  {
   "cell_type": "code",
   "execution_count": null,
   "metadata": {},
   "outputs": [],
   "source": [
    "llm = ChatOpenAI(model=\"google/gemini-2.0-flash-001\", temperature=1, base_url= \"https://openrouter.ai/api/v1\", api_key=os.environ[\"OPENROUTER_API_KEY\"])\n",
    "\n",
    "await tool_use_run(llm, 'Add a new row and just write \"To do\" in it')"
   ]
  },
  {
   "cell_type": "code",
   "execution_count": null,
   "metadata": {},
   "outputs": [],
   "source": []
  },
  {
   "cell_type": "code",
   "execution_count": null,
   "metadata": {},
   "outputs": [],
   "source": []
  },
  {
   "cell_type": "code",
   "execution_count": null,
   "metadata": {},
   "outputs": [],
   "source": [
    "results = []\n",
    "errors = []"
   ]
  },
  {
   "cell_type": "code",
   "execution_count": null,
   "metadata": {},
   "outputs": [],
   "source": [
    "llms = [\n",
    "            ChatOpenAI(model=\"gpt-4o-mini\", temperature=1),\n",
    "            ChatOpenAI(model=\"gpt-4o\", temperature=1),\n",
    "        \n",
    "            ChatAnthropic(model_name='claude-3-5-haiku-latest', temperature=1),\n",
    "            ChatAnthropic(model_name='claude-3-7-sonnet-latest', temperature=1),\n",
    "        \n",
    "            ChatOpenAI(model=\"openrouter/optimus-alpha\", temperature=1, base_url= \"https://openrouter.ai/api/v1\", api_key=os.environ[\"OPENROUTER_API_KEY\"]),\n",
    "            \n",
    "            ChatOpenAI(model=\"google/gemini-2.0-flash-001\", temperature=1, base_url= \"https://openrouter.ai/api/v1\", api_key=os.environ[\"OPENROUTER_API_KEY\"]),\n",
    "            \n",
    "            ChatOpenAI(model=\"deepseek/deepseek-chat-v3-0324\", temperature=1, base_url= \"https://openrouter.ai/api/v1\", api_key=os.environ[\"OPENROUTER_API_KEY\"]),\n",
    "            \n",
    "            ChatOpenAI(model=\"meta-llama/llama-4-maverick\", temperature=1, base_url= \"https://openrouter.ai/api/v1\", api_key=os.environ[\"OPENROUTER_API_KEY\"]),\n",
    "            ChatOpenAI(model=\"meta-llama/llama-4-scout\", temperature=1, base_url= \"https://openrouter.ai/api/v1\", api_key=os.environ[\"OPENROUTER_API_KEY\"]),\n",
    "            ChatOpenAI(model=\"meta-llama/llama-3.3-70b-instruct\", temperature=1, base_url= \"https://openrouter.ai/api/v1\", api_key=os.environ[\"OPENROUTER_API_KEY\"]),\n",
    "            \n",
    "            ChatOpenAI(model=\"x-ai/grok-3-beta\", temperature=1, base_url= \"https://openrouter.ai/api/v1\", api_key=os.environ[\"OPENROUTER_API_KEY\"]),\n",
    "            ChatOpenAI(model=\"gpt-4.1\", temperature=1),\n",
    "            ChatOpenAI(model=\"gpt-4.1-mini\", temperature=1)\n",
    "        ]"
   ]
  },
  {
   "cell_type": "code",
   "execution_count": null,
   "metadata": {
    "scrolled": true
   },
   "outputs": [],
   "source": [
    "from tqdm import tqdm\n",
    "from random import sample\n",
    "import pandas as pd\n",
    "from langchain_anthropic import ChatAnthropic\n",
    "n = 10\n",
    "import time\n",
    "\n",
    "for initial_message, expected_tool in tqdm(tool_selection_test_data):\n",
    "    for llm in llms:\n",
    "        for _ in range(n):\n",
    "            try:\n",
    "                response, tools_used, mcp_tool_order = await tool_use_run(llm, initial_message)\n",
    "                first_tool_used_by_agent = tools_used[0][0] if tools_used else None\n",
    "                time.sleep(0.3)\n",
    "            except Exception as e:\n",
    "                errors.append(f'error: {e} on llm: {llm}')\n",
    "            results.append(\n",
    "                {\n",
    "                    'llm': llm.model_name if hasattr(llm, 'model_name') else llm.model,\n",
    "                    'initial_message': initial_message,\n",
    "                    'first_tool_used_by_agent': first_tool_used_by_agent,\n",
    "                    'tools_used_by_agent': tools_used, \n",
    "                    'mcp_tool_order': mcp_tool_order, \n",
    "                    'expected_tool': expected_tool,\n",
    "                    'correct_tool_index': mcp_tool_order.index(expected_tool),\n",
    "                    'chosen_tool_index': mcp_tool_order.index(first_tool_used_by_agent) if first_tool_used_by_agent in mcp_tool_order else None\n",
    "                }\n",
    "            )\n",
    "            if len(results) % 10 == 0:\n",
    "                print(pd.DataFrame(results)['chosen_tool_index'].mean(), pd.DataFrame(results)['correct_tool_index'].mean())"
   ]
  },
  {
   "cell_type": "code",
   "execution_count": null,
   "metadata": {
    "scrolled": true
   },
   "outputs": [],
   "source": [
    "results_df = pd.DataFrame(results)#.fillna(-1)\n",
    "print(results_df.shape)\n",
    "results_df.sample(5)"
   ]
  },
  {
   "cell_type": "code",
   "execution_count": null,
   "metadata": {},
   "outputs": [],
   "source": []
  },
  {
   "cell_type": "code",
   "execution_count": null,
   "metadata": {},
   "outputs": [],
   "source": [
    "results_df = results_df.dropna()"
   ]
  },
  {
   "cell_type": "code",
   "execution_count": null,
   "metadata": {},
   "outputs": [],
   "source": [
    "results_df.isnull().sum()"
   ]
  },
  {
   "cell_type": "code",
   "execution_count": null,
   "metadata": {},
   "outputs": [],
   "source": [
    "results_df['chosen_tool_index'].fillna(-1, inplace=True)"
   ]
  },
  {
   "cell_type": "code",
   "execution_count": null,
   "metadata": {},
   "outputs": [],
   "source": [
    "results_df['llm'].value_counts()"
   ]
  },
  {
   "cell_type": "code",
   "execution_count": null,
   "metadata": {},
   "outputs": [],
   "source": [
    "results_df['tool_correct'] = (results_df['correct_tool_index'] == results_df['chosen_tool_index'])\n",
    "results_df.groupby('llm')['tool_correct'].mean().sort_values()"
   ]
  },
  {
   "cell_type": "code",
   "execution_count": null,
   "metadata": {},
   "outputs": [],
   "source": [
    "import matplotlib.pyplot as plt\n",
    "import numpy as np\n",
    "\n",
    "# Set the style\n",
    "plt.rcParams['font.family'] = 'sans-serif'\n",
    "plt.rcParams['font.sans-serif'] = ['Arial']\n",
    "\n",
    "# Create figure and axis\n",
    "fig, ax = plt.subplots(figsize=(12, 6))\n",
    "\n",
    "# Calculate mean accuracy\n",
    "mean_accuracy = results_df.groupby('llm')['tool_correct'].mean().sort_values()\n",
    "\n",
    "# Custom colors with higher saturation\n",
    "colors = ['#3498db', '#2ecc71']  # Vibrant blue and green\n",
    "\n",
    "# Create bars\n",
    "bars = ax.bar(\n",
    "    mean_accuracy.index,\n",
    "    mean_accuracy.values,\n",
    "    color=colors,\n",
    "    width=0.6,\n",
    "    edgecolor='white',\n",
    "    linewidth=1.5\n",
    ")\n",
    "\n",
    "# Add value labels on top of bars\n",
    "for bar in bars:\n",
    "    height = bar.get_height()\n",
    "    ax.text(\n",
    "        bar.get_x() + bar.get_width()/2.,\n",
    "        height,\n",
    "        f'{height:.2%}',\n",
    "        ha='center',\n",
    "        va='bottom',\n",
    "        fontsize=13,\n",
    "        fontweight='bold'\n",
    "    )\n",
    "\n",
    "# Customize the plot\n",
    "ax.set_title('Tool Selection Accuracy by Language Model', \n",
    "             pad=20, \n",
    "             fontsize=15, \n",
    "             fontweight='bold')\n",
    "ax.set_xlabel('Language Model', fontsize=12, labelpad=10)\n",
    "ax.set_ylabel('Accuracy', fontsize=12, labelpad=10)\n",
    "\n",
    "# Customize grid\n",
    "ax.grid(axis='y', linestyle='--', alpha=0.7)\n",
    "ax.set_axisbelow(True)  # Place gridlines behind bars\n",
    "\n",
    "# Customize spines\n",
    "ax.spines['top'].set_visible(False)\n",
    "ax.spines['right'].set_visible(False)\n",
    "ax.spines['left'].set_linewidth(0.5)\n",
    "ax.spines['bottom'].set_linewidth(0.5)\n",
    "\n",
    "# Set y-axis limits with some padding\n",
    "ax.set_ylim(0, min(1.1, max(mean_accuracy.values) * 1.15))\n",
    "\n",
    "# Format y-axis as percentage\n",
    "ax.yaxis.set_major_formatter(plt.FuncFormatter(lambda y, _: '{:.0%}'.format(y)))\n",
    "# Rotate x-axis labels\n",
    "ax.set_xticklabels(mean_accuracy.index, rotation=30, ha='right', fontsize=12)\n",
    "\n",
    "# Adjust layout\n",
    "plt.tight_layout()\n",
    "plt.savefig('tool_acc.png', dpi=1000)"
   ]
  },
  {
   "cell_type": "code",
   "execution_count": null,
   "metadata": {},
   "outputs": [],
   "source": [
    "mcp_tool_order"
   ]
  },
  {
   "cell_type": "code",
   "execution_count": null,
   "metadata": {
    "scrolled": true
   },
   "outputs": [],
   "source": [
    "# Group by LLM and tool\n",
    "grouped = results_df.groupby(['llm', 'expected_tool'])\n",
    "\n",
    "# Compute TP, FP, FN\n",
    "metrics = []\n",
    "metrics = []\n",
    "\n",
    "for llm in results_df['llm'].unique():\n",
    "    for tool in results_df['expected_tool'].unique():\n",
    "        df_llm = results_df[results_df['llm'] == llm]\n",
    "\n",
    "        tp = ((df_llm['first_tool_used_by_agent'] == tool) & (df_llm['expected_tool'] == tool)).sum()\n",
    "        fp = ((df_llm['first_tool_used_by_agent'] == tool) & (df_llm['expected_tool'] != tool)).sum()\n",
    "        fn = ((df_llm['first_tool_used_by_agent'] != tool) & (df_llm['expected_tool'] == tool)).sum()\n",
    "\n",
    "        precision = tp / (tp + fp) if (tp + fp) else 0\n",
    "        recall = tp / (tp + fn) if (tp + fn) else 0\n",
    "\n",
    "        metrics.append({\n",
    "            'llm': llm,\n",
    "            'tool': tool,\n",
    "            'precision': precision,\n",
    "            'recall': recall\n",
    "        })\n",
    "\n",
    "\n",
    "metrics_df = pd.DataFrame(metrics)\n",
    "metrics_df"
   ]
  },
  {
   "cell_type": "code",
   "execution_count": null,
   "metadata": {},
   "outputs": [],
   "source": [
    "import seaborn as sns\n",
    "import matplotlib.pyplot as plt\n",
    "\n",
    "pivot_precision = metrics_df.pivot(index='llm', columns='tool', values='precision')\n",
    "pivot_recall = metrics_df.pivot(index='llm', columns='tool', values='recall')\n",
    "\n",
    "plt.figure(figsize=(12, 4))\n",
    "sns.heatmap(pivot_precision, annot=True, fmt=\".2f\", cmap=\"Blues\")\n",
    "plt.title(\"Precision Heatmap\")\n",
    "plt.show()\n",
    "\n",
    "plt.figure(figsize=(12, 4))\n",
    "sns.heatmap(pivot_recall, annot=True, fmt=\".2f\", cmap=\"Greens\")\n",
    "plt.title(\"Recall Heatmap\")\n",
    "plt.show()\n"
   ]
  },
  {
   "cell_type": "code",
   "execution_count": null,
   "metadata": {},
   "outputs": [],
   "source": [
    "results_df[\n",
    "    (results_df['expected_tool'] == 'google_spreadsheet_tool') & \n",
    "    (results_df['llm'].str.contains('gemini'))\n",
    "]"
   ]
  },
  {
   "cell_type": "code",
   "execution_count": null,
   "metadata": {},
   "outputs": [],
   "source": [
    "results_df[\n",
    "    (results_df['expected_tool'] == 'firecrawl_tool') & \n",
    "    (results_df['tool_correct'] == False)\n",
    "]"
   ]
  },
  {
   "cell_type": "code",
   "execution_count": null,
   "metadata": {},
   "outputs": [],
   "source": []
  },
  {
   "cell_type": "code",
   "execution_count": null,
   "metadata": {
    "scrolled": true
   },
   "outputs": [],
   "source": [
    "import matplotlib.pyplot as plt\n",
    "import numpy as np\n",
    "\n",
    "model_choices = {}\n",
    "\n",
    "# Define the model name\n",
    "for MODEL_NAME in results_df['llm'].unique():\n",
    "    \n",
    "    # Filter the results for the specified model\n",
    "    llm_results = results_df[results_df['llm'] == MODEL_NAME].dropna()\n",
    "    # Create figure and axis\n",
    "    fig, ax = plt.subplots(figsize=(14, 6))\n",
    "    \n",
    "    # Define bar width and x-axis locations\n",
    "    bar_width = 0.4\n",
    "    x = np.arange(len(llm_results['correct_tool_index'].unique()) )\n",
    "    \n",
    "    # Aggregate the data for plotting\n",
    "    correct_counts = llm_results['correct_tool_index'].value_counts(normalize=True).sort_index()\n",
    "    chosen_counts = llm_results['chosen_tool_index'].value_counts(normalize=True).sort_index()\n",
    "    \n",
    "    # Align indices\n",
    "    correct_counts = correct_counts.reindex(x, fill_value=0)\n",
    "    chosen_counts = chosen_counts.reindex(x, fill_value=0)\n",
    "\n",
    "    model_choices[MODEL_NAME] = ((chosen_counts - correct_counts) / correct_counts)\n",
    "    \n",
    "    # Plot side-by-side bars with new colors\n",
    "    bars_correct = ax.bar(\n",
    "        x - bar_width / 2, correct_counts, width=bar_width, color='#2ecc71', edgecolor='white', linewidth=1.5, label='Correct Tool Index'\n",
    "    )\n",
    "    \n",
    "    bars_chosen = ax.bar(\n",
    "        x + bar_width / 2, chosen_counts, width=bar_width, color='#e67e22', edgecolor='white', linewidth=1.5, label='Chosen Tool Index'\n",
    "    )\n",
    "    \n",
    "    # Add value labels on top of each bar\n",
    "    for bars in [bars_correct, bars_chosen]:\n",
    "        for bar in bars:\n",
    "            height = bar.get_height()\n",
    "            ax.text(\n",
    "                bar.get_x() + bar.get_width() / 2.,\n",
    "                height,\n",
    "                f'{round(height * 100, 1)}%',\n",
    "                ha='center',\n",
    "                va='bottom',\n",
    "                fontsize=12,\n",
    "                fontweight='bold'\n",
    "            )\n",
    "    \n",
    "    # Customize the plot\n",
    "    ax.set_title(f'Correct vs Chosen Tool Index for {MODEL_NAME}', fontsize=16, fontweight='bold')\n",
    "    ax.set_xlabel('Tool Index', fontsize=12)\n",
    "    ax.set_ylabel('Frequency', fontsize=12)\n",
    "    ax.set_xticks(x)\n",
    "    ax.set_xticklabels(x, fontsize=12)\n",
    "    \n",
    "    # Customize grid and spines\n",
    "    ax.grid(axis='y', linestyle='--', alpha=0.7)\n",
    "    ax.set_axisbelow(True)\n",
    "    ax.spines['top'].set_visible(False)\n",
    "    ax.spines['right'].set_visible(False)\n",
    "    ax.spines['left'].set_linewidth(0.5)\n",
    "    ax.spines['bottom'].set_linewidth(0.5)\n",
    "    \n",
    "    # Add legend\n",
    "    ax.legend(title='Index Type', fontsize=12)\n",
    "    \n",
    "    # Adjust layout\n",
    "    plt.tight_layout()\n",
    "    plt.show()\n"
   ]
  },
  {
   "cell_type": "code",
   "execution_count": null,
   "metadata": {},
   "outputs": [],
   "source": []
  },
  {
   "cell_type": "code",
   "execution_count": null,
   "metadata": {},
   "outputs": [],
   "source": []
  },
  {
   "cell_type": "code",
   "execution_count": null,
   "metadata": {},
   "outputs": [],
   "source": [
    "def plot_pos_bias(proportion_data, title):  # Create figure and axis\n",
    "    fig, ax = plt.subplots(figsize=(12, 6))\n",
    "    \n",
    "    # Define colors based on positive/negative values\n",
    "    colors = ['#2ecc71' if val >= 0 else '#e74c3c' for val in proportion_data]\n",
    "    \n",
    "    # Plot bar chart\n",
    "    bars = ax.bar(proportion_data.index, proportion_data.values, color=colors, edgecolor='white', linewidth=1.5)\n",
    "    \n",
    "    # Add value labels on top of each bar\n",
    "    for bar in bars:\n",
    "        height = bar.get_height()\n",
    "        ax.text(\n",
    "            bar.get_x() + bar.get_width() / 2.,\n",
    "            height,\n",
    "            f'{height:.2%}',\n",
    "            ha='center',\n",
    "            va='bottom' if height >= 0 else 'top',\n",
    "            fontsize=12,\n",
    "            fontweight='bold',\n",
    "            color='black'\n",
    "        )\n",
    "    \n",
    "    # Customize the plot\n",
    "    ax.set_title(title, fontsize=16, fontweight='bold')\n",
    "    ax.set_xlabel('Correct Tool Index', fontsize=12)\n",
    "    ax.set_ylabel('Average Proportion (Chosen - Correct / Correct)', fontsize=12)\n",
    "    \n",
    "    # Customize grid and spines\n",
    "    ax.grid(axis='y', linestyle='--', alpha=0.7)\n",
    "    ax.set_axisbelow(True)\n",
    "    ax.spines['top'].set_visible(False)\n",
    "    ax.spines['right'].set_visible(False)\n",
    "    ax.spines['left'].set_linewidth(0.5)\n",
    "    ax.spines['bottom'].set_linewidth(0.5)\n",
    "    \n",
    "    # Set y-axis limits for better visualization\n",
    "    ax.set_ylim(min(proportion_data.values) - 0.05, max(proportion_data.values) + 0.05)\n",
    "    \n",
    "    # Format y-axis as percentage\n",
    "    ax.yaxis.set_major_formatter(plt.FuncFormatter(lambda y, _: '{:.0%}'.format(y)))\n",
    "    \n",
    "    # Adjust layout\n",
    "    plt.tight_layout()\n",
    "    try:\n",
    "        plt.savefig(f'pos_bias_tool_{title}.png', dpi=1000)\n",
    "    except:\n",
    "        pass\n",
    "    plt.show()\n"
   ]
  },
  {
   "cell_type": "code",
   "execution_count": null,
   "metadata": {
    "scrolled": true
   },
   "outputs": [],
   "source": [
    "model_choices"
   ]
  },
  {
   "cell_type": "code",
   "execution_count": null,
   "metadata": {},
   "outputs": [],
   "source": [
    "# Assuming model_choices is your list of Series\n",
    "proportion_data = pd.concat([v for k, v in model_choices.items()], axis=1).mean(axis=1)\n",
    "plot_pos_bias(proportion_data, 'Average Proportion between Chosen and Correct Tool Index')"
   ]
  },
  {
   "cell_type": "code",
   "execution_count": null,
   "metadata": {
    "scrolled": true
   },
   "outputs": [],
   "source": [
    "# Assuming model_choices is your list of Series\n",
    "for model, _ in model_choices.items():\n",
    "    proportion_data = pd.concat([v for k, v in model_choices.items() if model in k], axis=1).mean(axis=1)\n",
    "    plot_pos_bias(proportion_data, f'{model} Proportion between Chosen and Correct Tool Index')"
   ]
  },
  {
   "cell_type": "code",
   "execution_count": null,
   "metadata": {},
   "outputs": [],
   "source": []
  },
  {
   "cell_type": "markdown",
   "metadata": {
    "jp-MarkdownHeadingCollapsed": true
   },
   "source": [
    "# Combatting Positional Bias\n",
    "\n",
    "Sort tools in descending order of similiarty"
   ]
  },
  {
   "cell_type": "code",
   "execution_count": null,
   "metadata": {},
   "outputs": [],
   "source": [
    "import os\n",
    "import numpy as np\n",
    "from sentence_transformers import SentenceTransformer\n",
    "from sklearn.metrics.pairwise import cosine_similarity\n",
    "\n",
    "print(\"Loading the sentence-transformers model...\")\n",
    "model = SentenceTransformer('all-MiniLM-L6-v2')\n",
    "    \n",
    "def sort_snippets_by_similarity(snippets, question):\n",
    "    \"\"\"\n",
    "    Sort tool snippets by their similarity to a given question using sentence transformers.\n",
    "    \n",
    "    Args:\n",
    "        snippets: List of text snippets to sort\n",
    "        question: The question to compare against\n",
    "        \n",
    "    Returns:\n",
    "        List of dictionaries containing the original snippets and their similarity scores,\n",
    "        sorted in descending order of similarity\n",
    "    \"\"\"\n",
    "    # Load a pre-trained sentence transformer model\n",
    "    \n",
    "    # Generate embeddings for the question\n",
    "    question_embedding = model.encode([question])[0]\n",
    "    \n",
    "    # Generate embeddings for all snippets\n",
    "    snippet_embeddings = model.encode(snippets)\n",
    "    \n",
    "    # Calculate cosine similarities\n",
    "    similarities = []\n",
    "    for i, (snippet, embedding) in enumerate(zip(snippets, snippet_embeddings)):\n",
    "        # Calculate cosine similarity\n",
    "        similarity = cosine_similarity([embedding], [question_embedding])[0][0]\n",
    "        \n",
    "        # Get the tool name from the snippet\n",
    "        tool_name = snippet.split('def')[1].split('(')[0].strip() if 'def' in snippet else f\"Unknown Tool {i}\"\n",
    "        \n",
    "        similarities.append({\n",
    "            'index': i,\n",
    "            'tool_name': tool_name,\n",
    "            'snippet': snippet,\n",
    "            'similarity': similarity\n",
    "        })\n",
    "    \n",
    "    # Sort by similarity in descending order\n",
    "    similarities.sort(key=lambda x: x['similarity'], reverse=True)\n",
    "    \n",
    "    return similarities\n"
   ]
  },
  {
   "cell_type": "code",
   "execution_count": null,
   "metadata": {},
   "outputs": [],
   "source": [
    "def generate_similarity_based_mcp(question, mcp_path='similarity_based_mcp.py'):\n",
    "    \"\"\"\n",
    "    Generate an MCP server file with tools sorted by their relevance to the given question.\n",
    "    \n",
    "    Args:\n",
    "        question: The question to sort tools by\n",
    "        mcp_path: Path where the MCP server file will be saved\n",
    "        \n",
    "    Returns:\n",
    "        Tuple containing the absolute path of the generated file and the list of tool names in order\n",
    "    \"\"\"\n",
    "    # Sort snippets by similarity to the question\n",
    "    sorted_snippets = sort_snippets_by_similarity(tool_snippets, question)\n",
    "    \n",
    "    # Extract the sorted snippets\n",
    "    ordered_snippets = [item['snippet'] for item in sorted_snippets]\n",
    "    \n",
    "    # Create full server code\n",
    "    MCP_SERVER = f'''\n",
    "from mcp.server.fastmcp import FastMCP\n",
    "from langchain_community.tools import DuckDuckGoSearchRun\n",
    "mcp = FastMCP(\"MCP Example\")\n",
    "{''.join(ordered_snippets)}\n",
    "if __name__ == \"__main__\":\n",
    "    mcp.run(transport=\"stdio\")\n",
    "    '''\n",
    "    \n",
    "    # Save to file\n",
    "    with open(mcp_path, 'w') as f:\n",
    "        f.write(MCP_SERVER)\n",
    "    \n",
    "    # Extract tool names for return value\n",
    "    tool_names = [item['tool_name'] for item in sorted_snippets]\n",
    "    \n",
    "    return os.path.abspath(mcp_path), tool_names\n",
    "\n",
    "question = \"Go to loopgenius.com\"\n",
    "\n",
    "mcp_path, tool_names = generate_similarity_based_mcp(question)\n",
    "print(f\"\\nSaved to: {mcp_path}\")\n",
    "print(f\"Tool order: {tool_names}\")\n"
   ]
  },
  {
   "cell_type": "code",
   "execution_count": null,
   "metadata": {},
   "outputs": [],
   "source": [
    "updated_llms = [\n",
    "            ChatOpenAI(model=\"gpt-4o-mini\", temperature=1)\n",
    "        ]\n",
    "new_results = []"
   ]
  },
  {
   "cell_type": "code",
   "execution_count": null,
   "metadata": {},
   "outputs": [],
   "source": [
    "# to suppress a warning\n",
    "%env TOKENIZERS_PARALLELISM=true"
   ]
  },
  {
   "cell_type": "code",
   "execution_count": null,
   "metadata": {},
   "outputs": [],
   "source": [
    "from tqdm import tqdm\n",
    "from random import sample\n",
    "import pandas as pd\n",
    "from langchain_anthropic import ChatAnthropic\n",
    "n = 10\n",
    "import time\n",
    "\n",
    "for initial_message, expected_tool in tqdm(tool_selection_test_data):\n",
    "    for llm in updated_llms:\n",
    "        for _ in range(n):\n",
    "            try:\n",
    "                response, tools_used, mcp_tool_order = await tool_use_run(llm, initial_message)\n",
    "                first_tool_used_by_agent = tools_used[0][0] if tools_used else None\n",
    "                time.sleep(0.3)\n",
    "            except Exception as e:\n",
    "                errors.append(f'error: {e} on llm: {llm}')\n",
    "            new_results.append(\n",
    "                {\n",
    "                    'llm': llm.model_name if hasattr(llm, 'model_name') else llm.model,\n",
    "                    'initial_message': initial_message,\n",
    "                    'first_tool_used_by_agent': first_tool_used_by_agent,\n",
    "                    'tools_used_by_agent': tools_used, \n",
    "                    'mcp_tool_order': mcp_tool_order, \n",
    "                    'expected_tool': expected_tool,\n",
    "                    'correct_tool_index': mcp_tool_order.index(expected_tool),\n",
    "                    'chosen_tool_index': mcp_tool_order.index(first_tool_used_by_agent) if first_tool_used_by_agent in mcp_tool_order else None\n",
    "                }\n",
    "            )\n",
    "            if len(new_results) % 10 == 0:\n",
    "                print(pd.DataFrame(new_results)['chosen_tool_index'].mean(), pd.DataFrame(new_results)['correct_tool_index'].mean())"
   ]
  },
  {
   "cell_type": "code",
   "execution_count": null,
   "metadata": {},
   "outputs": [],
   "source": [
    "new_results_df = pd.DataFrame(new_results)\n",
    "new_results_df['tool_correct'] = new_results_df['correct_tool_index'] == new_results_df['chosen_tool_index']\n",
    "new_results_df.groupby('llm')['tool_correct'].mean()"
   ]
  },
  {
   "cell_type": "code",
   "execution_count": null,
   "metadata": {},
   "outputs": [],
   "source": [
    "print(pd.DataFrame(new_results)['chosen_tool_index'].mean() - pd.DataFrame(new_results)['correct_tool_index'].mean())"
   ]
  },
  {
   "cell_type": "code",
   "execution_count": null,
   "metadata": {},
   "outputs": [],
   "source": [
    "new_results_df[new_results_df['tool_correct'] == False]"
   ]
  },
  {
   "cell_type": "code",
   "execution_count": null,
   "metadata": {},
   "outputs": [],
   "source": []
  }
 ],
 "metadata": {
  "colab": {
   "provenance": []
  },
  "kernelspec": {
   "display_name": "Python 3 (ipykernel)",
   "language": "python",
   "name": "python3"
  },
  "language_info": {
   "codemirror_mode": {
    "name": "ipython",
    "version": 3
   },
   "file_extension": ".py",
   "mimetype": "text/x-python",
   "name": "python",
   "nbconvert_exporter": "python",
   "pygments_lexer": "ipython3",
   "version": "3.11.5"
  }
 },
 "nbformat": 4,
 "nbformat_minor": 4
}
